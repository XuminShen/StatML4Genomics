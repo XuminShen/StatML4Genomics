{
 "cells": [
  {
   "cell_type": "markdown",
   "metadata": {
    "id": "XSGiatOD_ETX"
   },
   "source": [
    "# Identify yourself\n",
    "\n",
    "Please write your name and uni. Additionally, modify the name of the notebook to include your first and last name.\n"
   ]
  },
  {
   "cell_type": "code",
   "execution_count": 1,
   "metadata": {
    "id": "xIYZBS52yhXC"
   },
   "outputs": [
    {
     "ename": "SyntaxError",
     "evalue": "invalid syntax (2220820299.py, line 2)",
     "output_type": "error",
     "traceback": [
      "\u001b[1;36m  Input \u001b[1;32mIn [1]\u001b[1;36m\u001b[0m\n\u001b[1;33m    name = Xumin Shen\u001b[0m\n\u001b[1;37m                 ^\u001b[0m\n\u001b[1;31mSyntaxError\u001b[0m\u001b[1;31m:\u001b[0m invalid syntax\n"
     ]
    }
   ],
   "source": [
    "uni = xs2484\n",
    "name = Xumin Shen"
   ]
  },
  {
   "cell_type": "markdown",
   "metadata": {
    "id": "5fiHWc4VyZ1s"
   },
   "source": [
    "# Hidden Markov Models\n",
    "\n",
    "First we'll set up some helper functions. "
   ]
  },
  {
   "cell_type": "code",
   "execution_count": 1,
   "metadata": {
    "id": "BwBfNO5idqj2"
   },
   "outputs": [],
   "source": [
    "import numpy as np\n",
    "import matplotlib.pyplot as plt\n",
    "\n",
    "np.set_printoptions(2)\n",
    "\n",
    "def norm(x): \n",
    "    '''\n",
    "    Return the input normalized to have sum of 1. \n",
    "    '''\n",
    "    return(x/x.sum())\n",
    "\n",
    "def row_norm(x):\n",
    "    '''\n",
    "    Return the input normalized so that each row sums to 1. \n",
    "    '''\n",
    "    return x / x.sum(1, keepdims=True)"
   ]
  },
  {
   "cell_type": "markdown",
   "metadata": {
    "id": "BC7-fry3dqj4"
   },
   "source": [
    "## Sampling from the HMM \n",
    "\n",
    "An HMM is a `generative process` which means that given parameters T, E and gamma0 we can sample imaginary data from the model. Here's a function to just that, generating a sequence y of length S (as well as the underlying hidden states x). "
   ]
  },
  {
   "cell_type": "code",
   "execution_count": 2,
   "metadata": {
    "id": "8ET1yJ6Jdqj5"
   },
   "outputs": [],
   "source": [
    "def sampleHMM(gamma0, T, E, S):\n",
    "    '''\n",
    "Sample from the HMM\n",
    "\n",
    "Parameters\n",
    "----------\n",
    "gamma0\n",
    "    initial distribution over states of the HMM\n",
    "T\n",
    "    transition matrix of size K x K\n",
    "E\n",
    "    emission matrix size K x L\n",
    "S\n",
    "    sequence length\n",
    "\n",
    "Returns\n",
    "-------\n",
    "x\n",
    "    Vector of hidden states\n",
    "y\n",
    "    Vector of observations\n",
    "    '''\n",
    "    K = gamma0.size\n",
    "    L = E.shape[1]\n",
    "    x = np.zeros(S, dtype = np.int32)\n",
    "    y = np.zeros(S, dtype = np.int32)\n",
    "    x[0] = np.random.choice(K, p=gamma0)\n",
    "    y[0] = np.random.choice(L, p=E[x[0], :])\n",
    "    for t in range(1,S):\n",
    "        x[t] = np.random.choice(K, p = T[x[t-1], :])\n",
    "        y[t] = np.random.choice(L, p = E[x[t], :])\n",
    "    return (x,y)"
   ]
  },
  {
   "cell_type": "markdown",
   "metadata": {
    "id": "QhoEjYrGdqj7"
   },
   "source": [
    "Let's make a toy 2-state HMM and sample from it. "
   ]
  },
  {
   "cell_type": "code",
   "execution_count": 3,
   "metadata": {
    "colab": {
     "base_uri": "https://localhost:8080/",
     "height": 562
    },
    "executionInfo": {
     "elapsed": 1433,
     "status": "ok",
     "timestamp": 1570813178539,
     "user": {
      "displayName": "Sitara Camini Persad",
      "photoUrl": "",
      "userId": "16323816739941935801"
     },
     "user_tz": 240
    },
    "id": "8_CrsVKfdqj7",
    "outputId": "7461a0ab-5989-4196-a362-9ec7bc5a1c61"
   },
   "outputs": [
    {
     "data": {
      "text/plain": [
       "Text(0.5, 1.0, 'Observations y')"
      ]
     },
     "execution_count": 3,
     "metadata": {},
     "output_type": "execute_result"
    },
    {
     "data": {
      "image/png": "[encoded data removed]",
      "text/plain": [
       "<Figure size 1008x288 with 1 Axes>"
      ]
     },
     "metadata": {
      "needs_background": "light"
     },
     "output_type": "display_data"
    },
    {
     "data": {
      "image/png": "[encoded data removed]",
      "text/plain": [
       "<Figure size 1008x288 with 1 Axes>"
      ]
     },
     "metadata": {
      "needs_background": "light"
     },
     "output_type": "display_data"
    }
   ],
   "source": [
    "gamma0_true = np.array([0., 1.]) # start in state 1 (rather than 0)\n",
    "T_true = np.array([[0.8, 0.2], [0.1, 0.9]]) # usually stay in the same state, a \"sticky\" HMM\n",
    "E_true = np.array([[0.4, 0.4, 0.1, 0.1], [0.1, 0.1, 0.4, 0.4]]) \n",
    "\n",
    "np.random.seed(3)\n",
    "x,y = sampleHMM(gamma0_true, T_true, E_true, S = 100)\n",
    "\n",
    "plt.figure(figsize=(14,4))\n",
    "plt.plot(x, \"o\")\n",
    "plt.title(\"Hidden state x\")\n",
    "\n",
    "plt.figure(figsize=(14,4))\n",
    "plt.plot(y, \"o\")\n",
    "plt.title(\"Observations y\")"
   ]
  },
  {
   "cell_type": "markdown",
   "metadata": {
    "id": "Xi6YPPeUdqj-"
   },
   "source": [
    "Notice that the the Markov chain of hidden states tends to stay in the same state for a while, and that in state 1 we get more 2s and 3s in y. \n",
    "\n",
    "## Forwards-backwards\n",
    "\n",
    "Now let's see what the forward pass might look like. \n",
    "\n",
    "\n",
    "First you'll be implementing the forward pass. We first initialize \n",
    "$$ f_{1:} = \\text{norm}( \\gamma_0 \\cdot E_{:y_{1}} ) $$ \n",
    "where $f = \\text{norm}(f_*)$ implies\n",
    "$$ f_i = \\frac{ f^*_i }{ \\sum_{i'} f^*_{i'} } $$\n",
    "Then at each time point $t$\n",
    "$$ r_{ti} = \\sum_j T_{ji} f_{(t-1)j} $$\n",
    "$$ f^*_{ti} = r_{ti} E_{iy_t} $$\n",
    "$$ f_{ti} = \\frac{ f^*_{ti} }{ \\sum_{i'} f^*_{ti'} } $$\n",
    "\n",
    "### Task [1 point] \n",
    "\n",
    "Write the per time point updates above for $r$ and $f$ in matrix notation (this is what you'll want to use in the code). Consider $r$ and $f$ as matrices, use $\\cdot$ to denote elementwise multiplication and make use of the `norm` function defined above. \n",
    "\n",
    "TODO: replace the ? \n",
    "$$ r_{t:} = ?$$\n",
    "$$ f_{t:} = ?$$\n",
    "\n",
    "### Task [2 points]\n",
    "\n",
    "Here's a template for you to fill in. Bear in mind for the time indexing Python uses 0-indexing though whereas in mathematical equations we  always use 1-indexing.   "
   ]
  },
  {
   "cell_type": "code",
   "execution_count": 4,
   "metadata": {
    "id": "VnOrJlkRdqj_"
   },
   "outputs": [],
   "source": [
    "def forwards(y, gamma0, T, E):\n",
    "    '''\n",
    "    \n",
    "Forward pass of forwards-backwards algorithm. \n",
    "\n",
    "Parameters\n",
    "----------\n",
    "y\n",
    "    vector of observations, assumed to be in range(E.shape[1])\n",
    "gamma0\n",
    "    initial distribution as vector of size K\n",
    "T\n",
    "    transition matrix of size K x K\n",
    "E\n",
    "    emission matrix size K x L\n",
    "Returns\n",
    "-------\n",
    "f\n",
    "    forward \"messages\" f[t,k] = P(x[t]=k | y[0:t]=y[0:t]) for 0<=k<K and 0<=t<S\n",
    "  '''\n",
    "    S = y.size\n",
    "    K = T.shape[0]\n",
    "    # TODO initialize f\n",
    "    f= np.zeros((S,K))\n",
    "    # TODO: calculate f[0,:]\n",
    "    f[0,:] = norm(gamma0*E[:,0])\n",
    "    # TODO: loop forwared to calculate f[1:,:]\n",
    "    for t in range(1,S):\n",
    "        r = T.T@f[t-1,:]\n",
    "        f[t,:] = r*E[:,y[t]]/np.sum(r*E[:,y[t]])\n",
    "    return f"
   ]
  },
  {
   "cell_type": "markdown",
   "metadata": {
    "id": "kWdudRQQdqkB"
   },
   "source": [
    "Your next task is implementing the equivalent backwards pass. The updates in matrix notation, for $t=\\{S-1,\\cdots,1\\}$ are: \n",
    "$$ q_{t:} = (E_{:y_{t+1}})' \\cdot b_{t+1:} $$\n",
    "$$ b_{t:} = (T q'_{t:})' $$ (by convention no `norm` is used). \n",
    "Note $b_{S:} = [1, ..., 1]$, $\\cdot$ implies elementwise multiplication and $q'$ denotes the transpose. \n",
    "\n",
    "### Task [1 point]\n",
    "\n",
    "Write the updates in NON matrix notation (as I have for the forward pass above): \n",
    "$$ q_{ti} = ? $$\n",
    "$$ b_{ti} = ? $$\n",
    "\n",
    "### Task [1 point]\n",
    "\n",
    "Here's a template for you to fill in. Bear in mind for the time indexing Python uses 0-indexing though whereas in mathematical equations we  always use 1-indexing.   "
   ]
  },
  {
   "cell_type": "code",
   "execution_count": 5,
   "metadata": {
    "id": "zJzvSQSbdqkB"
   },
   "outputs": [],
   "source": [
    "def backwards(y, T, E):\n",
    "    '''\n",
    "Backwards pass of forwards-backwards algorithm. \n",
    "\n",
    "Parameters\n",
    "----------\n",
    "y\n",
    "    vector of observations, assumed to be in range(E.shape[1])\n",
    "gamma0\n",
    "    initial distribution as vector of size K\n",
    "T\n",
    "    transition matrix of size K x K\n",
    "E\n",
    "    emission matrix size K x L\n",
    "\n",
    "Returns\n",
    "-------\n",
    "b\n",
    "    Backward \"messages\" b[t,k] = [P(y[t+1:n] | X[t]=k) for 0<=k<K and 1<=t<S      \n",
    "  '''\n",
    "    S = y.size\n",
    "    K = T.shape[0]\n",
    "    # TODO: initialize b\n",
    "    b = np.ones((S,K))\n",
    "    for i in range(S-2,-1,-1):\n",
    "        q = E[:,y[i+1]].T*b[i+1,:]\n",
    "\n",
    "        b[i,:] = (T@q.T).T\n",
    "\n",
    "    # TODO: loop backwards from S-2 to 0\n",
    "    return b"
   ]
  },
  {
   "cell_type": "markdown",
   "metadata": {
    "id": "zcXoy5RTdqkD"
   },
   "source": [
    "Armed with the forwards and backwards functions we can now get the posterior over X given the observations we just generated, Y. Here we're cheating: since we generated the data we know what the true parameters gamma0, T and E are so we'll use those in forwards-backwards. "
   ]
  },
  {
   "cell_type": "code",
   "execution_count": 6,
   "metadata": {
    "id": "TpYOrSVXdqkE"
   },
   "outputs": [],
   "source": [
    "def forwards_backwards( y, gamma0, T, E ):\n",
    "    f = forwards(y, gamma0, T, E) # result is S x K\n",
    "    b = backwards(y, T, E)\n",
    "    gamma = row_norm( f * b ) # get the posterior gamma[t,k] = P(X[t]=k | y[0:S])\n",
    "    return gamma, f, b\n",
    "\n",
    "gamma, f, b = forwards_backwards( y, gamma0_true, T_true, E_true )\n",
    "assert( abs(gamma[-1,1] - 0.6397375803142555) < 1e-10  ) \n",
    "assert( abs(gamma[-50,1] - 0.9566209571811642) < 1e-10  ) "
   ]
  },
  {
   "cell_type": "markdown",
   "metadata": {
    "id": "eI1nASNWdqkG"
   },
   "source": [
    " Make sure the assertions pass! If not check your backwards code! (and make sure you didn't change the random seed)\n",
    " \n",
    " We can then look how well our posterior over X agrees with the true X, since we also have that from the simulation. "
   ]
  },
  {
   "cell_type": "code",
   "execution_count": 7,
   "metadata": {
    "colab": {
     "base_uri": "https://localhost:8080/",
     "height": 286
    },
    "executionInfo": {
     "elapsed": 1566,
     "status": "ok",
     "timestamp": 1570813178709,
     "user": {
      "displayName": "Sitara Camini Persad",
      "photoUrl": "",
      "userId": "16323816739941935801"
     },
     "user_tz": 240
    },
    "id": "9iGex8S_dqkH",
    "outputId": "4d732157-6377-4996-b5fe-b7036c59cb37"
   },
   "outputs": [
    {
     "data": {
      "text/plain": [
       "[<matplotlib.lines.Line2D at 0x264ad8032b0>]"
      ]
     },
     "execution_count": 7,
     "metadata": {},
     "output_type": "execute_result"
    },
    {
     "data": {
      "image/png": "[encoded data removed]",
      "text/plain": [
       "<Figure size 1008x288 with 1 Axes>"
      ]
     },
     "metadata": {
      "needs_background": "light"
     },
     "output_type": "display_data"
    }
   ],
   "source": [
    "plt.figure(figsize=(14,4))\n",
    "plt.plot(gamma[:,1], \"-o\") # P(X[t] = 1 | Y[0:t])\n",
    "plt.plot(x, \"o\")"
   ]
  },
  {
   "cell_type": "markdown",
   "metadata": {
    "id": "H9mZAXuwdqkK"
   },
   "source": [
    "You can see that the posterior tends towards the `correct` hidden state, and in fact gets it right 86% of the time:"
   ]
  },
  {
   "cell_type": "code",
   "execution_count": 8,
   "metadata": {
    "colab": {
     "base_uri": "https://localhost:8080/",
     "height": 34
    },
    "executionInfo": {
     "elapsed": 1546,
     "status": "ok",
     "timestamp": 1570813178710,
     "user": {
      "displayName": "Sitara Camini Persad",
      "photoUrl": "",
      "userId": "16323816739941935801"
     },
     "user_tz": 240
    },
    "id": "I71-j6QwdqkK",
    "outputId": "36b4ea6f-cb3d-4004-a904-b6ab43d87352"
   },
   "outputs": [
    {
     "data": {
      "text/plain": [
       "0.86"
      ]
     },
     "execution_count": 8,
     "metadata": {},
     "output_type": "execute_result"
    }
   ],
   "source": [
    "np.mean((gamma[:,1] > .5) == (x==1))"
   ]
  },
  {
   "cell_type": "markdown",
   "metadata": {
    "id": "h9TOGWB_dqkN"
   },
   "source": [
    "There is some uncertainty because either state can generate any four of the observation values, just with somewhat different probabilities. \n",
    "\n",
    "## Baum-Welch\n",
    "\n",
    "Below we provide an implementation of Baum-Welch with the E-step (forwards backwards) and the M-step implemented for T but not for E. \n",
    "\n",
    "### Task [2 points]\n",
    "\n",
    "Implement the M-step for the emission matrix E. From class: \n",
    "$$ E^*_{ij} = \\sum_{t=1}^S \\gamma_{ti} 1[ y_t = j ] $$ \n",
    "$$ E_{i:} = \\text{norm}(E^*_{i:}) $$\n",
    "\n",
    "[1 point]: \n",
    "Implement the $E$ update without looping over $t$. Hint: making the S x L matrix Y with elements $Y_{tj} = 1[ y_t = j ]$ will be useful. "
   ]
  },
  {
   "cell_type": "code",
   "execution_count": 67,
   "metadata": {
    "id": "iCtITHLcPRkJ"
   },
   "outputs": [],
   "source": [
    "def baum_welch(y, gamma0, tol=1e-4, maxIt = 100):\n",
    "    '''\n",
    "    Compute maximum likehood estimate using Expectation-Maximization\n",
    "\n",
    "    Parameters\n",
    "    ----------\n",
    "    y\n",
    "        vector of observations\n",
    "    gamma0\n",
    "        initial distribution of the hidden chain\n",
    "    tol\n",
    "        tolerance for the stopping criterion\n",
    "    maxIt\n",
    "        maximal number of iterations\n",
    "\n",
    "    Returns\n",
    "    -------\n",
    "    T\n",
    "        K x K estimate of the transition matrix T[i,j] = P(X[t]=j | X[t-1]=i)\n",
    "    E\n",
    "        K x L estimate of the emission matrix E[i,j] = P(Y[t]=j | X[t]=i)\n",
    "  '''  \n",
    "    K = gamma0.size\n",
    "    L = 1+max(y)\n",
    "    S = y.size\n",
    "    Y = np.zeros([S, L])\n",
    "    Y[range(S), np.int_(y)] = 1\n",
    "\n",
    "    # randomly initialize T, E\n",
    "    T = row_norm( np.random.rand(K, K).astype(np.float32) )\n",
    "    E = row_norm( np.random.rand(K, L).astype(np.float32) )\n",
    "\n",
    "    it = 0\n",
    "    oldT = T\n",
    "    oldE = E + tol +1\n",
    "\n",
    "    while (np.abs(oldT-T).sum() + np.abs(oldE-E).sum() > tol) and (it<maxIt):\n",
    "        it += 1\n",
    "\n",
    "        oldT = T.copy()\n",
    "        oldE = E.copy()\n",
    "\n",
    "        # E-step\n",
    "        gamma, f, b = forwards_backwards(y, gamma0, T, E)\n",
    "        \n",
    "        # M-step\n",
    "        Tstar = np.zeros((K,K))\n",
    "        for t in range(S-1):\n",
    "            Tstar += norm( T * np.outer( f[t,:], E[:,y[t+1]] * b[t+1,:] ) )\n",
    "        T = row_norm(Tstar)\n",
    "        \n",
    "        # TODO: E update\n",
    "        E = (Y.T@gamma).T\n",
    "        \n",
    "        E_hat = np.zeros((K,L))\n",
    "#         for j in range(L):\n",
    "#             for t in range(S):\n",
    "                \n",
    "#                 E_hat[:,j]+=gamma[t,:]*(y[t]==j)\n",
    "        for i in range(E.shape[0]):\n",
    "            E[i,:] = norm(E[i,:])\n",
    "\n",
    "        \n",
    "        \n",
    "\n",
    "    return (T, E)"
   ]
  },
  {
   "cell_type": "markdown",
   "metadata": {
    "id": "VZa8aplBdqkP"
   },
   "source": [
    "Now we've implemented Baum-Welch let's see how we do recovering the true E and T. "
   ]
  },
  {
   "cell_type": "code",
   "execution_count": 68,
   "metadata": {
    "colab": {
     "base_uri": "https://localhost:8080/",
     "height": 255
    },
    "executionInfo": {
     "elapsed": 1675,
     "status": "ok",
     "timestamp": 1570813178861,
     "user": {
      "displayName": "Sitara Camini Persad",
      "photoUrl": "",
      "userId": "16323816739941935801"
     },
     "user_tz": 240
    },
    "id": "VRGpsj0edqkQ",
    "outputId": "f26baf03-cec3-45be-ad05-cbf12701c8ce"
   },
   "outputs": [
    {
     "name": "stdout",
     "output_type": "stream",
     "text": [
      "True T:\n",
      " [[0.8 0.2]\n",
      " [0.1 0.9]]\n",
      "Infered T:\n",
      " [[0.91 0.09]\n",
      " [0.08 0.92]]\n",
      "Mean absolute error in T: 0.066\n",
      "True E:\n",
      " [[0.4 0.4 0.1 0.1]\n",
      " [0.1 0.1 0.4 0.4]]\n",
      "Infered E:\n",
      " [[1.92e-01 3.87e-01 2.20e-01 2.01e-01]\n",
      " [2.44e-01 4.46e-13 4.44e-01 3.11e-01]]\n",
      "Mean absolute error in E: 0.102\n"
     ]
    }
   ],
   "source": [
    "np.random.seed(2)\n",
    "\n",
    "T_mle, E_mle = baum_welch(y, gamma0_true)\n",
    "\n",
    "print(\"True T:\\n\", T_true)\n",
    "print(\"Infered T:\\n\", T_mle)\n",
    "print(\"Mean absolute error in T: %.3f\" % np.mean(np.abs(T_true - T_mle)))\n",
    "\n",
    "print(\"True E:\\n\", E_true)\n",
    "print(\"Infered E:\\n\", E_mle )\n",
    "print(\"Mean absolute error in E: %.3f\" % np.mean(np.abs(E_true - E_mle)))\n",
    "\n",
    "assert( abs(E_mle[0,0] - 0.19228533549712362) < 1e-10 )"
   ]
  },
  {
   "cell_type": "markdown",
   "metadata": {
    "id": "G0zbXqkldqkS"
   },
   "source": [
    "Make sure the assertion passes! If not check your update for E. \n",
    "\n",
    "These estimates are clearly better than random, but there is some overfitting going on: note in particular the almost 0 probability of generating the 2nd observed value from state 1, which we know should be 0.1. Try a few other random seeds (this will change the random initialization of E and T) to see that most are worse than the one I picked! \n",
    "\n",
    "In practice for EM (as well as other optimization approaches that get stuck in local optima) we would do multiple random restarts (e.g. 10 - 50 typically) and somehow score which are best. While we won't cover it here, for HMMs it is possible to calculate the marginal likelihood $P(Y|E,T)$ as part of the forward-backwards algorithm, which can then be used as such as score. \n",
    "\n",
    "Let's see how well we did at recovering x: "
   ]
  },
  {
   "cell_type": "code",
   "execution_count": 69,
   "metadata": {
    "colab": {
     "base_uri": "https://localhost:8080/",
     "height": 286
    },
    "executionInfo": {
     "elapsed": 2048,
     "status": "ok",
     "timestamp": 1570813179249,
     "user": {
      "displayName": "Sitara Camini Persad",
      "photoUrl": "",
      "userId": "16323816739941935801"
     },
     "user_tz": 240
    },
    "id": "mcA1_e2ldqkS",
    "outputId": "13ee03ec-b578-4bf2-ce5c-1ee010d5fa6b"
   },
   "outputs": [
    {
     "data": {
      "text/plain": [
       "[<matplotlib.lines.Line2D at 0x1faf9469f40>]"
      ]
     },
     "execution_count": 69,
     "metadata": {},
     "output_type": "execute_result"
    },
    {
     "data": {
      "image/png": "[encoded data removed]",
      "text/plain": [
       "<Figure size 1008x288 with 1 Axes>"
      ]
     },
     "metadata": {
      "needs_background": "light"
     },
     "output_type": "display_data"
    }
   ],
   "source": [
    "gamma, f, b = forwards_backwards(y, gamma0_true, T_mle, E_mle) \n",
    "plt.figure(figsize=(14,4))\n",
    "plt.plot(gamma[:,1], \"-o\") # P(X[t] = 1 | Y[0:t])\n",
    "plt.plot(x, \"o\")"
   ]
  },
  {
   "cell_type": "markdown",
   "metadata": {
    "id": "SZwwxU0adqkU"
   },
   "source": [
    "The recovered x is \"better than random\", in that considering this as a classifier, we're getting the right state 69% of the time: "
   ]
  },
  {
   "cell_type": "code",
   "execution_count": 70,
   "metadata": {
    "colab": {
     "base_uri": "https://localhost:8080/",
     "height": 34
    },
    "executionInfo": {
     "elapsed": 2034,
     "status": "ok",
     "timestamp": 1570813179251,
     "user": {
      "displayName": "Sitara Camini Persad",
      "photoUrl": "",
      "userId": "16323816739941935801"
     },
     "user_tz": 240
    },
    "id": "Ca8bFmwddqkV",
    "outputId": "50337407-c7cd-4ca4-e1c4-c83d7a0b6254"
   },
   "outputs": [
    {
     "data": {
      "text/plain": [
       "0.69"
      ]
     },
     "execution_count": 70,
     "metadata": {},
     "output_type": "execute_result"
    }
   ],
   "source": [
    "np.mean((gamma[:,1] > .5) == (x==1))"
   ]
  },
  {
   "cell_type": "markdown",
   "metadata": {
    "id": "DwMyu0apdqkX"
   },
   "source": [
    "However there are many regions where the wrong state is inferred because of the errors in the recovered E matrix. \n",
    "\n",
    "One easy solution to this overfitting is to add a pseudocount of 1 to all the values in Estar and Tstar. You can interpret this as putting a Dirichlet(2,...,2) prior on each row of E and T, or using a Dirichlet(1,...,1) prior on those rows but updating to the posterior expectation rather than the maximum likelihood estimate (a bit more like variational Bayes). \n",
    "\n",
    "### Task [1 point]\n",
    "\n",
    "Copy your code for `baum_welch` but add 1 to Estar and Tstar just before normalizing with row_norm. "
   ]
  },
  {
   "cell_type": "code",
   "execution_count": 73,
   "metadata": {
    "id": "RbJLFbi9dqkY"
   },
   "outputs": [],
   "source": [
    "def baum_welch_with_pseudocount(y, gamma0, tol=1e-4, maxIt = 100):\n",
    "    '''\n",
    "    Compute maximum likehood estimate using Expectation-Maximization\n",
    "\n",
    "    Parameters\n",
    "    ----------\n",
    "    y\n",
    "        vector of observations\n",
    "    gamma0\n",
    "        initial distribution of the hidden chain\n",
    "    tol\n",
    "        tolerance for the stopping criterion\n",
    "    maxIt\n",
    "        maximal number of iterations\n",
    "\n",
    "    Returns\n",
    "    -------\n",
    "    T\n",
    "        K x K estimate of the transition matrix T[i,j] = P(X[t]=j | X[t-1]=i)\n",
    "    E\n",
    "        K x L estimate of the emission matrix E[i,j] = P(Y[t]=j | X[t]=i)\n",
    "  '''  \n",
    "    K = gamma0.size\n",
    "    L = 1+max(y)\n",
    "    S = y.size\n",
    "    Y = np.zeros([S, L])\n",
    "    Y[range(S), np.int_(y)] = 1\n",
    "\n",
    "    # randomly initialize T, E\n",
    "    T = row_norm( np.random.rand(K, K).astype(np.float32) )\n",
    "    E = row_norm( np.random.rand(K, L).astype(np.float32) )\n",
    "\n",
    "    it = 0\n",
    "    oldT = T\n",
    "    oldE = E + tol +1\n",
    "\n",
    "    while (np.abs(oldT-T).sum() + np.abs(oldE-E).sum() > tol) and (it<maxIt):\n",
    "        it += 1\n",
    "\n",
    "        oldT = T.copy()\n",
    "        oldE = E.copy()\n",
    "\n",
    "        # E-step\n",
    "        gamma, f, b = forwards_backwards(y, gamma0, T, E)\n",
    "        \n",
    "        # M-step\n",
    "        Tstar = np.zeros((K,K))\n",
    "        for t in range(S-1):\n",
    "            Tstar += norm( T * np.outer( f[t,:], E[:,y[t+1]] * b[t+1,:] ) )\n",
    "        Tstar=Tstar+1\n",
    "        T = row_norm(Tstar)\n",
    "        \n",
    "        # TODO: E update\n",
    "        E = (Y.T@gamma).T\n",
    "        \n",
    "        E_hat = np.zeros((K,L))\n",
    "#         for j in range(L):\n",
    "#             for t in range(S):\n",
    "                \n",
    "#                 E_hat[:,j]+=gamma[t,:]*(y[t]==j)\n",
    "        E = E+1\n",
    "#         for i in range(E.shape[0]):\n",
    "#             E[i,:] = norm(E[i,:])\n",
    "        E = row_norm(E)\n",
    "    return (T, E)"
   ]
  },
  {
   "cell_type": "code",
   "execution_count": 74,
   "metadata": {
    "colab": {
     "base_uri": "https://localhost:8080/",
     "height": 255
    },
    "executionInfo": {
     "elapsed": 2158,
     "status": "ok",
     "timestamp": 1570813179395,
     "user": {
      "displayName": "Sitara Camini Persad",
      "photoUrl": "",
      "userId": "16323816739941935801"
     },
     "user_tz": 240
    },
    "id": "_dtLNGOcdqka",
    "outputId": "b9b8d668-3b38-4088-b113-70ba7440d714"
   },
   "outputs": [
    {
     "name": "stdout",
     "output_type": "stream",
     "text": [
      "True T:\n",
      " [[0.8 0.2]\n",
      " [0.1 0.9]]\n",
      "Infered T:\n",
      " [[0.76 0.24]\n",
      " [0.11 0.89]]\n",
      "Mean absolute error in T: 0.026\n",
      "True E:\n",
      " [[0.4 0.4 0.1 0.1]\n",
      " [0.1 0.1 0.4 0.4]]\n",
      "Infered E:\n",
      " [[0.3  0.43 0.16 0.11]\n",
      " [0.19 0.07 0.41 0.33]]\n",
      "Mean absolute error in E: 0.050\n"
     ]
    }
   ],
   "source": [
    "np.random.seed(2)\n",
    "\n",
    "T_mle, E_mle = baum_welch_with_pseudocount(y, gamma0_true)\n",
    "\n",
    "assert( abs(E_mle[0,0] - 0.298322068734388) < 1e-10 )\n",
    "\n",
    "print(\"True T:\\n\", T_true)\n",
    "print(\"Infered T:\\n\", T_mle)\n",
    "print(\"Mean absolute error in T: %.3f\" % np.mean(np.abs(T_true - T_mle)))\n",
    "\n",
    "print(\"True E:\\n\", E_true)\n",
    "print(\"Infered E:\\n\", E_mle )\n",
    "print(\"Mean absolute error in E: %.3f\" % np.mean(np.abs(E_true - E_mle)))"
   ]
  },
  {
   "cell_type": "markdown",
   "metadata": {
    "id": "mCxVsqEwdqkc"
   },
   "source": [
    "Make sure the assertion passes! These estimates are a lot closer to the ground truth than without the pseudocounts. That will result in a better recovery of x too: "
   ]
  },
  {
   "cell_type": "code",
   "execution_count": 75,
   "metadata": {
    "colab": {
     "base_uri": "https://localhost:8080/",
     "height": 286
    },
    "executionInfo": {
     "elapsed": 2470,
     "status": "ok",
     "timestamp": 1570813179722,
     "user": {
      "displayName": "Sitara Camini Persad",
      "photoUrl": "",
      "userId": "16323816739941935801"
     },
     "user_tz": 240
    },
    "id": "kC-Yq9ZHdqkc",
    "outputId": "4c0ca48b-ce2c-4a49-8b9d-b6e0c32cd232"
   },
   "outputs": [
    {
     "data": {
      "text/plain": [
       "[<matplotlib.lines.Line2D at 0x1faf9c1afa0>]"
      ]
     },
     "execution_count": 75,
     "metadata": {},
     "output_type": "execute_result"
    },
    {
     "data": {
      "image/png": "[encoded data removed]",
      "text/plain": [
       "<Figure size 1008x288 with 1 Axes>"
      ]
     },
     "metadata": {
      "needs_background": "light"
     },
     "output_type": "display_data"
    }
   ],
   "source": [
    "gamma, f, b = forwards_backwards(y, gamma0_true, T_mle, E_mle) \n",
    "plt.figure(figsize=(14,4))\n",
    "plt.plot(gamma[:,1], \"-o\") # P(X[t] = 1 | Y[0:t])\n",
    "plt.plot(x, \"o\")"
   ]
  },
  {
   "cell_type": "markdown",
   "metadata": {
    "id": "mnh2vk1Hdqke"
   },
   "source": [
    "Now we get the correct state 85% of the time! (Remember with the true E and T we only got 86%!) "
   ]
  },
  {
   "cell_type": "code",
   "execution_count": 76,
   "metadata": {
    "colab": {
     "base_uri": "https://localhost:8080/",
     "height": 34
    },
    "executionInfo": {
     "elapsed": 2451,
     "status": "ok",
     "timestamp": 1570813179723,
     "user": {
      "displayName": "Sitara Camini Persad",
      "photoUrl": "",
      "userId": "16323816739941935801"
     },
     "user_tz": 240
    },
    "id": "Vnuf_43cdqkg",
    "outputId": "fe15b1cf-ec7e-4adc-e465-4360e24e7ab9"
   },
   "outputs": [
    {
     "data": {
      "text/plain": [
       "0.85"
      ]
     },
     "execution_count": 76,
     "metadata": {},
     "output_type": "execute_result"
    }
   ],
   "source": [
    "np.mean((gamma[:,1] > .5) == (x==1))"
   ]
  },
  {
   "cell_type": "markdown",
   "metadata": {
    "id": "i8mDY0Xvdqkl"
   },
   "source": [
    "# Real data: single cell bisulphite sequencing\n",
    "\n",
    "Now it's time to run on some real data. We'll be looking at the single cell Bisulphite sequencing (\"scBS-seq\") data from the DeepCpG paper.  "
   ]
  },
  {
   "cell_type": "code",
   "execution_count": null,
   "metadata": {
    "colab": {
     "base_uri": "https://localhost:8080/"
    },
    "executionInfo": {
     "elapsed": 253,
     "status": "ok",
     "timestamp": 1617763325118,
     "user": {
      "displayName": "David A Knowles",
      "photoUrl": "https://lh3.googleusercontent.com/a-/AOh14GidhMaJcSZuCQ19V2yZvCLryu5NhRIQI2mBUjWB=s64",
      "userId": "09486986964116749149"
     },
     "user_tz": 240
    },
    "id": "Ui2KnfbIYX4W",
    "outputId": "d8e46b5d-8c68-4521-ad50-576eec90b5d2"
   },
   "outputs": [
    {
     "name": "stdout",
     "output_type": "stream",
     "text": [
      "Drive already mounted at /content/drive; to attempt to forcibly remount, call drive.mount(\"/content/drive\", force_remount=True).\n"
     ]
    }
   ],
   "source": [
    "from google.colab import drive\n",
    "drive.mount('/content/drive')"
   ]
  },
  {
   "cell_type": "code",
   "execution_count": 77,
   "metadata": {
    "colab": {
     "base_uri": "https://localhost:8080/"
    },
    "executionInfo": {
     "elapsed": 4248,
     "status": "ok",
     "timestamp": 1617763330570,
     "user": {
      "displayName": "David A Knowles",
      "photoUrl": "https://lh3.googleusercontent.com/a-/AOh14GidhMaJcSZuCQ19V2yZvCLryu5NhRIQI2mBUjWB=s64",
      "userId": "09486986964116749149"
     },
     "user_tz": 240
    },
    "id": "RfA3xOtAczdt",
    "outputId": "9578587d-a4d2-4da8-ab72-e4d9bf2d6362"
   },
   "outputs": [
    {
     "data": {
      "text/plain": [
       "array(['2i_1', '2i_10', '2i_11', '2i_12', '2i_2', '2i_3', '2i_4', '2i_5',\n",
       "       '2i_6', '2i_7', '2i_8', '2i_9', 'MII_1', 'MII_10', 'MII_11',\n",
       "       'MII_12', 'MII_2', 'MII_3', 'MII_4', 'MII_5', 'MII_6', 'MII_7',\n",
       "       'MII_8', 'MII_9', 'Ser1', 'Ser10', 'Ser11', 'Ser12', 'Ser13',\n",
       "       'Ser14', 'Ser15', 'Ser16', 'Ser17', 'Ser18', 'Ser19', 'Ser2',\n",
       "       'Ser20', 'Ser3', 'Ser4', 'Ser5', 'Ser6', 'Ser7', 'Ser8', 'Ser9'],\n",
       "      dtype='<U6')"
      ]
     },
     "execution_count": 77,
     "metadata": {},
     "output_type": "execute_result"
    }
   ],
   "source": [
    "import numpy as np \n",
    "\n",
    "scBSseq = np.load(\"scBSseq.npz\") # might need to change this\n",
    "\n",
    "meth_mat = scBSseq[\"meth_mat\"] # positions x cells matrix of counts of methylated CpGs\n",
    "unmeth_mat = scBSseq[\"unmeth_mat\"] # positions x cells matrix of counts of unmethylated CpGs (i.e. C got converted to T)\n",
    "positions = scBSseq[\"positions\"] # genomic position of each CpG\n",
    "chroms = scBSseq[\"chroms\"] # chromomsome of each CpG\n",
    "cell_names = scBSseq[\"cell_names\"] # cell type and an arbitrary ID\n",
    "cell_names"
   ]
  },
  {
   "cell_type": "markdown",
   "metadata": {
    "id": "tOjoB9b1dqkq"
   },
   "source": [
    "2i_N and SerN are (mouse) embryonic stem cells grown in either \"2i\" media or serum (from cows!). MII are oocytes which are used as \"controls\" here since they are easy to handle experimentally and have well defined blocks of methylation. The paper describing this data is [here](https://www-nature-com.ezproxy.cul.columbia.edu/articles/nmeth.3035) if you're interested in more of the technical details. \n",
    "\n",
    "## Exploratory data analysis\n",
    "\n",
    "It's always a good idea to do some exploratory data analysis (EDA) on a new dataset before trying out your fancy new ML model. \n",
    "\n",
    "Especially in single-cell data it's important to get a sense how sparse the data is. We filtered this data for CpG positions with reads in at least 10 cells but the data is still pretty sparse:"
   ]
  },
  {
   "cell_type": "code",
   "execution_count": 78,
   "metadata": {
    "colab": {
     "base_uri": "https://localhost:8080/",
     "height": 293
    },
    "executionInfo": {
     "elapsed": 1653,
     "status": "ok",
     "timestamp": 1617763334850,
     "user": {
      "displayName": "David A Knowles",
      "photoUrl": "https://lh3.googleusercontent.com/a-/AOh14GidhMaJcSZuCQ19V2yZvCLryu5NhRIQI2mBUjWB=s64",
      "userId": "09486986964116749149"
     },
     "user_tz": 240
    },
    "id": "Cla1xBIjdqkr",
    "outputId": "17c35710-5fb5-41c1-eef0-4b0426896ad7"
   },
   "outputs": [
    {
     "data": {
      "text/plain": [
       "0.2968330165185542"
      ]
     },
     "execution_count": 78,
     "metadata": {},
     "output_type": "execute_result"
    },
    {
     "data": {
      "image/png": "[encoded data removed]",
      "text/plain": [
       "<Figure size 432x288 with 1 Axes>"
      ]
     },
     "metadata": {
      "needs_background": "light"
     },
     "output_type": "display_data"
    }
   ],
   "source": [
    "import matplotlib.pyplot as plt\n",
    "\n",
    "total_counts = meth_mat + unmeth_mat\n",
    "ncells_with_reads = (total_counts > 0).sum(1)\n",
    "plt.hist(ncells_with_reads, np.arange(-.5,30.5) )\n",
    "np.mean(total_counts > 0)"
   ]
  },
  {
   "cell_type": "markdown",
   "metadata": {
    "id": "JpIjEafodqkt"
   },
   "source": [
    "So about 30% of entries have data. \n",
    "\n",
    "Principal components analysis (PCA) is an excellent tool for EDA on high dimensional data. It's a little challenging to apply here because there's so much missingness: to handle that we'll add a small pseudocount and only look at CpGs where there is data for at least 25 cells (you can see from the histogram above this is a small proportion!) "
   ]
  },
  {
   "cell_type": "code",
   "execution_count": 80,
   "metadata": {
    "colab": {
     "base_uri": "https://localhost:8080/",
     "height": 296
    },
    "executionInfo": {
     "elapsed": 2269,
     "status": "ok",
     "timestamp": 1617763815434,
     "user": {
      "displayName": "David A Knowles",
      "photoUrl": "https://lh3.googleusercontent.com/a-/AOh14GidhMaJcSZuCQ19V2yZvCLryu5NhRIQI2mBUjWB=s64",
      "userId": "09486986964116749149"
     },
     "user_tz": 240
    },
    "id": "jiEIQV_Edqku",
    "outputId": "d94b237b-6375-4ded-8276-e8aee3975e53"
   },
   "outputs": [
    {
     "data": {
      "text/plain": [
       "Text(0.5, 0, 'PC')"
      ]
     },
     "execution_count": 80,
     "metadata": {},
     "output_type": "execute_result"
    },
    {
     "data": {
      "image/png": "[encoded data removed]",
      "text/plain": [
       "<Figure size 432x288 with 1 Axes>"
      ]
     },
     "metadata": {
      "needs_background": "light"
     },
     "output_type": "display_data"
    }
   ],
   "source": [
    "pseudocount = 0.25\n",
    "meth_level = ( meth_mat + pseudocount) / (total_counts + 2 * pseudocount)\n",
    "meth_level = meth_level[ncells_with_reads >= 25,:] # only consider CpG positions with reads in 25 (out of 44) cells\n",
    "\n",
    "meth_level_centered = meth_level - meth_level.mean(1, keepdims=True) # remove the per position mean\n",
    "\n",
    "# numpy implementation uses too much memory\n",
    "# u,s,vh = np.linalg.svd(meth_level_centered, full_matrices=True) # use SVD to do PCA (quite cpu/memory intensive)\n",
    "import torch\n",
    "torch.manual_seed(0) # torch uses a randomized algorithm so set the seed for reproducibility\n",
    "usvh = torch.pca_lowrank( torch.tensor(meth_level_centered).to(\"cpu\"), q=44, center=False, niter=10)\n",
    "u,s,vh = [ g.cpu().numpy() for g in usvh ]\n",
    "vh = vh.transpose()\n",
    "\n",
    "plt.plot(100 * s**2 / np.sum(s**2), \"o-\")\n",
    "plt.ylabel(\"Percent variance explained\")\n",
    "plt.xlabel(\"PC\")"
   ]
  },
  {
   "cell_type": "markdown",
   "metadata": {
    "id": "BokTU6SxDtXr"
   },
   "source": [
    "The single values here tell us how much variance is represented by each PC. As is common with high dimensional data we see a lot of signal in the first few PCs. \n",
    "\n",
    "Plotting the first two PCs we see that cell type drives much of the variation in the data - the cells separate by cell type for the most part. 2i and Ser samples look distinct but more similar to one another than to MII, which is expected given that they are the same cell type just grown in different conditions. "
   ]
  },
  {
   "cell_type": "code",
   "execution_count": 82,
   "metadata": {
    "colab": {
     "base_uri": "https://localhost:8080/"
    },
    "executionInfo": {
     "elapsed": 253,
     "status": "ok",
     "timestamp": 1617763707144,
     "user": {
      "displayName": "David A Knowles",
      "photoUrl": "https://lh3.googleusercontent.com/a-/AOh14GidhMaJcSZuCQ19V2yZvCLryu5NhRIQI2mBUjWB=s64",
      "userId": "09486986964116749149"
     },
     "user_tz": 240
    },
    "id": "NNk4x-67Ox-7",
    "outputId": "b13778c0-ae85-4494-922d-620f316f048d"
   },
   "outputs": [
    {
     "data": {
      "text/plain": [
       "(44, 44)"
      ]
     },
     "execution_count": 82,
     "metadata": {},
     "output_type": "execute_result"
    }
   ],
   "source": [
    "vh.shape"
   ]
  },
  {
   "cell_type": "code",
   "execution_count": 81,
   "metadata": {
    "colab": {
     "base_uri": "https://localhost:8080/",
     "height": 444
    },
    "executionInfo": {
     "elapsed": 823,
     "status": "ok",
     "timestamp": 1617763807777,
     "user": {
      "displayName": "David A Knowles",
      "photoUrl": "https://lh3.googleusercontent.com/a-/AOh14GidhMaJcSZuCQ19V2yZvCLryu5NhRIQI2mBUjWB=s64",
      "userId": "09486986964116749149"
     },
     "user_tz": 240
    },
    "id": "Kv2WLRlChUC1",
    "outputId": "8a91864f-1d31-4efc-b364-61b2a18cf3e9"
   },
   "outputs": [
    {
     "data": {
      "image/png": "[encoded data removed]",
      "text/plain": [
       "<Figure size 484.5x432 with 1 Axes>"
      ]
     },
     "metadata": {
      "needs_background": "light"
     },
     "output_type": "display_data"
    }
   ],
   "source": [
    "import seaborn as sns\n",
    "import pandas as pd\n",
    "\n",
    "df = pd.DataFrame(\n",
    "    { \"pc1\" : vh[0,:],\n",
    "      \"pc2\" : vh[1,:],\n",
    "      \"cell_type\" : [ cn[:2] for cn in cell_names ] } )\n",
    "\n",
    "_ = sns.pairplot(x_vars = [\"pc1\"], y_vars = [\"pc2\"], hue = \"cell_type\", data = df, height=6 )"
   ]
  },
  {
   "cell_type": "markdown",
   "metadata": {
    "id": "Ffxyn9oxEsJd"
   },
   "source": [
    "## Applying the HMM\n",
    "\n",
    "PCA isn't a great model for this data for two reasons: \n",
    "1. It can't handle missingness (or count based likelihoods) naturally. \n",
    "2. It ignores the sequential nature of the data. \n",
    "\n",
    "So let's try using an HMM. The data at each CpG position is a vector of methylated and unmethylated counts, which it is natural to model using a binomial likelihood. The emission parameter $E_{ij} \\in [0,1]$ is the probability of cell $j$ having a methylated CpG if the hidden state is $i$. \n",
    "\n",
    "First we'll rewrite the forwards-backwards algorithm to be agnostic to the form of the likelihood. \n",
    "\n",
    "### Task [2 point]\n",
    "\n",
    "Write new forward backwards updates that take a matrix \n",
    "$O_{kt} = P(Y_t | X_t = k) $ instead of Y and E. For the standard HMM \n",
    "$O_{kt} = E_{kY_t}$. \n",
    "\n",
    "We'll be using longer sequences where the standard implementation of the backwards update can end up being 0 to machine precision. To avoid this, wrap your b[t,:] calculation in a `norm` call (at every $t$ step, not just at the end!). We only care about the values of b[t,:] up to a multiplicative constant so this won't change anything. "
   ]
  },
  {
   "cell_type": "code",
   "execution_count": 9,
   "metadata": {
    "id": "xzrLyW7ddqky"
   },
   "outputs": [
    {
     "ename": "NameError",
     "evalue": "name 'E' is not defined",
     "output_type": "error",
     "traceback": [
      "\u001b[1;31m---------------------------------------------------------------------------\u001b[0m",
      "\u001b[1;31mNameError\u001b[0m                                 Traceback (most recent call last)",
      "Input \u001b[1;32mIn [9]\u001b[0m, in \u001b[0;36m<cell line: 106>\u001b[1;34m()\u001b[0m\n\u001b[0;32m    103\u001b[0m     \u001b[38;5;28;01mreturn\u001b[39;00m forwards_backwards_generic(gamma0, T, O)\n\u001b[0;32m    105\u001b[0m gamma, f, b \u001b[38;5;241m=\u001b[39m forwards_backwards( y, gamma0_true, T_true, E_true )\n\u001b[1;32m--> 106\u001b[0m gamma_check, f, b \u001b[38;5;241m=\u001b[39m \u001b[43mforwards_backwards_check\u001b[49m\u001b[43m(\u001b[49m\u001b[43m \u001b[49m\u001b[43my\u001b[49m\u001b[43m,\u001b[49m\u001b[43m \u001b[49m\u001b[43mgamma0_true\u001b[49m\u001b[43m,\u001b[49m\u001b[43m \u001b[49m\u001b[43mT_true\u001b[49m\u001b[43m,\u001b[49m\u001b[43m \u001b[49m\u001b[43mE_true\u001b[49m\u001b[43m \u001b[49m\u001b[43m)\u001b[49m\n\u001b[0;32m    107\u001b[0m \u001b[38;5;28;01massert\u001b[39;00m( \u001b[38;5;28mabs\u001b[39m(gamma[\u001b[38;5;241m-\u001b[39m\u001b[38;5;241m1\u001b[39m,\u001b[38;5;241m1\u001b[39m] \u001b[38;5;241m-\u001b[39m gamma_check[\u001b[38;5;241m-\u001b[39m\u001b[38;5;241m1\u001b[39m,\u001b[38;5;241m1\u001b[39m]) \u001b[38;5;241m<\u001b[39m \u001b[38;5;241m1e-10\u001b[39m  )\n",
      "Input \u001b[1;32mIn [9]\u001b[0m, in \u001b[0;36mforwards_backwards_check\u001b[1;34m(y, gamma0, T, E)\u001b[0m\n\u001b[0;32m    101\u001b[0m \u001b[38;5;28;01mdef\u001b[39;00m \u001b[38;5;21mforwards_backwards_check\u001b[39m( y, gamma0, T, E ):\n\u001b[0;32m    102\u001b[0m     O \u001b[38;5;241m=\u001b[39m E[:,y] \u001b[38;5;66;03m# TODO: calculate O from E and y\u001b[39;00m\n\u001b[1;32m--> 103\u001b[0m     \u001b[38;5;28;01mreturn\u001b[39;00m \u001b[43mforwards_backwards_generic\u001b[49m\u001b[43m(\u001b[49m\u001b[43mgamma0\u001b[49m\u001b[43m,\u001b[49m\u001b[43m \u001b[49m\u001b[43mT\u001b[49m\u001b[43m,\u001b[49m\u001b[43m \u001b[49m\u001b[43mO\u001b[49m\u001b[43m)\u001b[49m\n",
      "Input \u001b[1;32mIn [9]\u001b[0m, in \u001b[0;36mforwards_backwards_generic\u001b[1;34m(gamma0, T, O)\u001b[0m\n\u001b[0;32m     73\u001b[0m \u001b[38;5;28;01mdef\u001b[39;00m \u001b[38;5;21mforwards_backwards_generic\u001b[39m(gamma0, T, O):\n\u001b[0;32m     74\u001b[0m     \u001b[38;5;124;03m'''\u001b[39;00m\n\u001b[0;32m     75\u001b[0m \u001b[38;5;124;03mForwards-backwards algorithm. \u001b[39;00m\n\u001b[0;32m     76\u001b[0m \n\u001b[1;32m   (...)\u001b[0m\n\u001b[0;32m     93\u001b[0m \u001b[38;5;124;03m    S x K matrix: Backward \"messages\" b[t,k] = [P(y[t+1:n] | X[t]=k) for 0<=k<K and 1<=t<S      \u001b[39;00m\n\u001b[0;32m     94\u001b[0m \u001b[38;5;124;03m  '''\u001b[39;00m\n\u001b[1;32m---> 95\u001b[0m     f \u001b[38;5;241m=\u001b[39m \u001b[43mforwards_generic\u001b[49m\u001b[43m(\u001b[49m\u001b[43mgamma0\u001b[49m\u001b[43m,\u001b[49m\u001b[43m \u001b[49m\u001b[43mT\u001b[49m\u001b[43m,\u001b[49m\u001b[43m \u001b[49m\u001b[43mO\u001b[49m\u001b[43m)\u001b[49m \n\u001b[0;32m     96\u001b[0m     b \u001b[38;5;241m=\u001b[39m backwards_generic(T, O)\n\u001b[0;32m     97\u001b[0m     gamma \u001b[38;5;241m=\u001b[39m row_norm( f \u001b[38;5;241m*\u001b[39m b ) \n",
      "Input \u001b[1;32mIn [9]\u001b[0m, in \u001b[0;36mforwards_generic\u001b[1;34m(gamma0, T, O)\u001b[0m\n\u001b[0;32m     26\u001b[0m f\u001b[38;5;241m=\u001b[39m np\u001b[38;5;241m.\u001b[39mzeros((S,K))\n\u001b[0;32m     27\u001b[0m \u001b[38;5;66;03m# TODO: calculate f[0,:]\u001b[39;00m\n\u001b[1;32m---> 28\u001b[0m f[\u001b[38;5;241m0\u001b[39m,:] \u001b[38;5;241m=\u001b[39m norm(gamma0\u001b[38;5;241m*\u001b[39m\u001b[43mE\u001b[49m[:,\u001b[38;5;241m0\u001b[39m])\n\u001b[0;32m     29\u001b[0m \u001b[38;5;66;03m# TODO: loop forwared to calculate f[1:,:]\u001b[39;00m\n\u001b[0;32m     30\u001b[0m \u001b[38;5;28;01mfor\u001b[39;00m t \u001b[38;5;129;01min\u001b[39;00m \u001b[38;5;28mrange\u001b[39m(\u001b[38;5;241m1\u001b[39m,S):\n",
      "\u001b[1;31mNameError\u001b[0m: name 'E' is not defined"
     ]
    }
   ],
   "source": [
    "def forwards_generic(gamma0, T, O):\n",
    "    '''\n",
    "Forward pass of forwards-backwards algorithm. \n",
    "\n",
    "Parameters\n",
    "----------\n",
    "gamma0\n",
    "    initial distribution as vector of size K\n",
    "T\n",
    "    transition matrix of size K x K\n",
    "O\n",
    "    likelihood terms for observations: P(Y_t | X_t = k) K x S\n",
    "\n",
    "Returns\n",
    "-------\n",
    "f\n",
    "    S x K matrix: forward \"messages\" f[t,k] = P(x[t]=k | y[0:t]=y[0:t]) for 0<=k<K and 0<=t<S\n",
    "  '''  \n",
    "    S = O.shape[1]\n",
    "    K = T.shape[0]\n",
    "    # TODO\n",
    "    \n",
    "    S = y.size\n",
    "    K = T.shape[0]\n",
    "    # TODO initialize f\n",
    "    f= np.zeros((S,K))\n",
    "    # TODO: calculate f[0,:]\n",
    "    f[0,:] = norm(gamma0*E[:,0])\n",
    "    # TODO: loop forwared to calculate f[1:,:]\n",
    "    for t in range(1,S):\n",
    "        r = T.T@f[t-1,:]\n",
    "        f[t,:] = r*E[:,y[t]]/np.mean(r*E[:,y[t]])\n",
    "\n",
    "    \n",
    "    return f\n",
    "\n",
    "def backwards_generic(T, O):\n",
    "    '''\n",
    "Backwards pass of forwards-backwards algorithm. \n",
    "\n",
    "Parameters\n",
    "----------\n",
    "gamma0\n",
    "    initial distribution as vector of size K\n",
    "T\n",
    "    transition matrix of size K x K\n",
    "O\n",
    "    likelihood terms for observations: P(Y_t | X_t = k) K x S\n",
    "\n",
    "Returns\n",
    "-------\n",
    "b\n",
    "    S x K matrix: Backward \"messages\" b[t,k] = [P(y[t+1:n] | X[t]=k) for 0<=k<K and 1<=t<S      \n",
    "  '''\n",
    "    S = O.shape[1]\n",
    "    K = T.shape[0]\n",
    "    # TODO\n",
    "    \n",
    "    S = y.size\n",
    "    K = T.shape[0]\n",
    "    # TODO: initialize b\n",
    "    b = np.ones((S,K))\n",
    "    for i in range(S-2,-1,-1):\n",
    "        q = E[:,y[i+1]].T*b[i+1,:]\n",
    "\n",
    "        b[i,:] = (T@q.T).T\n",
    "\n",
    "    # TODO: loop backwards from S-2 to 0\n",
    "    return b\n",
    "    \n",
    "    return b\n",
    "\n",
    "def forwards_backwards_generic(gamma0, T, O):\n",
    "    '''\n",
    "Forwards-backwards algorithm. \n",
    "\n",
    "Parameters\n",
    "----------\n",
    "gamma0\n",
    "    initial distribution as vector of size K\n",
    "T\n",
    "    transition matrix of size K x K\n",
    "O\n",
    "    likelihood terms for observations: P(Y_t | X_t = k) K x S\n",
    "\n",
    "Returns\n",
    "-------\n",
    "gamma\n",
    "    S x K matrix: posterior gamma[t,k] = P(X[t]=k | y[0:S])\n",
    "f\n",
    "    S x K matrix: forward \"messages\" f[t,k] = P(x[t]=k | y[0:t]=y[0:t]) for 0<=k<K and 0<=t<S\n",
    "b\n",
    "    S x K matrix: Backward \"messages\" b[t,k] = [P(y[t+1:n] | X[t]=k) for 0<=k<K and 1<=t<S      \n",
    "  '''\n",
    "    f = forwards_generic(gamma0, T, O) \n",
    "    b = backwards_generic(T, O)\n",
    "    gamma = row_norm( f * b ) \n",
    "    return gamma, f, b\n",
    "\n",
    "\n",
    "def forwards_backwards_check( y, gamma0, T, E ):\n",
    "    O = E[:,y] # TODO: calculate O from E and y\n",
    "    return forwards_backwards_generic(gamma0, T, O)\n",
    "\n",
    "gamma, f, b = forwards_backwards( y, gamma0_true, T_true, E_true )\n",
    "gamma_check, f, b = forwards_backwards_check( y, gamma0_true, T_true, E_true )\n",
    "assert( abs(gamma[-1,1] - gamma_check[-1,1]) < 1e-10  ) "
   ]
  },
  {
   "cell_type": "code",
   "execution_count": 101,
   "metadata": {},
   "outputs": [
    {
     "name": "stdout",
     "output_type": "stream",
     "text": [
      "0.6397375803142555\n",
      "0.9658503265278905\n"
     ]
    },
    {
     "ename": "AssertionError",
     "evalue": "",
     "output_type": "error",
     "traceback": [
      "\u001b[1;31m---------------------------------------------------------------------------\u001b[0m",
      "\u001b[1;31mAssertionError\u001b[0m                            Traceback (most recent call last)",
      "Input \u001b[1;32mIn [101]\u001b[0m, in \u001b[0;36m<cell line: 104>\u001b[1;34m()\u001b[0m\n\u001b[0;32m    102\u001b[0m \u001b[38;5;28mprint\u001b[39m(gamma[\u001b[38;5;241m-\u001b[39m\u001b[38;5;241m1\u001b[39m,\u001b[38;5;241m1\u001b[39m])\n\u001b[0;32m    103\u001b[0m \u001b[38;5;28mprint\u001b[39m(gamma_check[\u001b[38;5;241m-\u001b[39m\u001b[38;5;241m1\u001b[39m,\u001b[38;5;241m1\u001b[39m])\n\u001b[1;32m--> 104\u001b[0m \u001b[38;5;28;01massert\u001b[39;00m( \u001b[38;5;28mabs\u001b[39m(gamma[\u001b[38;5;241m-\u001b[39m\u001b[38;5;241m1\u001b[39m,\u001b[38;5;241m1\u001b[39m] \u001b[38;5;241m-\u001b[39m gamma_check[\u001b[38;5;241m-\u001b[39m\u001b[38;5;241m1\u001b[39m,\u001b[38;5;241m1\u001b[39m]) \u001b[38;5;241m<\u001b[39m \u001b[38;5;241m1e-10\u001b[39m  )\n",
      "\u001b[1;31mAssertionError\u001b[0m: "
     ]
    }
   ],
   "source": [
    "def forwards_generic(gamma0, T, O):\n",
    "    '''\n",
    "Forward pass of forwards-backwards algorithm. \n",
    "\n",
    "Parameters\n",
    "----------\n",
    "gamma0\n",
    "    initial distribution as vector of size K\n",
    "T\n",
    "    transition matrix of size K x K\n",
    "O\n",
    "    likelihood terms for observations: P(Y_t | X_t = k) K x S\n",
    "\n",
    "Returns\n",
    "-------\n",
    "f\n",
    "    S x K matrix: forward \"messages\" f[t,k] = P(x[t]=k | y[0:t]=y[0:t]) for 0<=k<K and 0<=t<S\n",
    "  '''  \n",
    "    S = O.shape[1]\n",
    "    K = T.shape[0]\n",
    "    # TODO\n",
    "\n",
    "    # TODO initialize f\n",
    "    f= np.zeros((S,K))\n",
    "    # TODO: calculate f[0,:]\n",
    "    f[0,:] = norm(gamma0*O[:,0])\n",
    "    # TODO: loop forwared to calculate f[1:,:]\n",
    "    for t in range(1,S):\n",
    "        r = T.T@f[t-1,:]\n",
    "        f[t,:] = r*O[:,y[t]]/np.mean(r*O[:,y[t]])\n",
    "    return f\n",
    "\n",
    "\n",
    "def backwards_generic(T, O):\n",
    "    '''\n",
    "Backwards pass of forwards-backwards algorithm. \n",
    "\n",
    "Parameters\n",
    "----------\n",
    "gamma0\n",
    "    initial distribution as vector of size K\n",
    "T\n",
    "    transition matrix of size K x K\n",
    "O\n",
    "    likelihood terms for observations: P(Y_t | X_t = k) K x S\n",
    "\n",
    "Returns\n",
    "-------\n",
    "b\n",
    "    S x K matrix: Backward \"messages\" b[t,k] = [P(y[t+1:n] | X[t]=k) for 0<=k<K and 1<=t<S      \n",
    "  '''\n",
    "    S = O.shape[1]\n",
    "    K = T.shape[0]\n",
    "    # TODO\n",
    "    b = np.ones((S,K))\n",
    "    for i in range(S-2,-1,-1):\n",
    "        q = O[:,y[i+1]].T*b[i+1,:]\n",
    "\n",
    "        b[i,:] = (T@q.T).T\n",
    "        b = norm(b)\n",
    "    # TODO: loop backwards from S-2 to 0\n",
    "    return b\n",
    "\n",
    "def forwards_backwards_generic(gamma0, T, O):\n",
    "    '''\n",
    "Forwards-backwards algorithm. \n",
    "\n",
    "Parameters\n",
    "----------\n",
    "gamma0\n",
    "    initial distribution as vector of size K\n",
    "T\n",
    "    transition matrix of size K x K\n",
    "O\n",
    "    likelihood terms for observations: P(Y_t | X_t = k) K x S\n",
    "\n",
    "Returns\n",
    "-------\n",
    "gamma\n",
    "    S x K matrix: posterior gamma[t,k] = P(X[t]=k | y[0:S])\n",
    "f\n",
    "    S x K matrix: forward \"messages\" f[t,k] = P(x[t]=k | y[0:t]=y[0:t]) for 0<=k<K and 0<=t<S\n",
    "b\n",
    "    S x K matrix: Backward \"messages\" b[t,k] = [P(y[t+1:n] | X[t]=k) for 0<=k<K and 1<=t<S      \n",
    "  '''\n",
    "    f = forwards_generic(gamma0, T, O) \n",
    "    b = backwards_generic(T, O)\n",
    "    gamma = row_norm( f * b ) \n",
    "    return gamma, f, b\n",
    "\n",
    "def forwards_backwards_check( y, gamma0, T, E ):\n",
    "    O = np.zeros((E.shape[0],len(y)))\n",
    "\n",
    "    for t in range(len(y)):\n",
    "        for k in range(E.shape[0]):\n",
    "            O[k,t] = E[k,y[t]] # TODO: calculate O from E and y\n",
    "        O[:,t] = norm(O[:,t])\n",
    "    return forwards_backwards_generic(gamma0, T, O)\n",
    "\n",
    "gamma, f, b = forwards_backwards( y, gamma0_true, T_true, E_true )\n",
    "gamma_check, f, b = forwards_backwards_check( y, gamma0_true, T_true, E_true )\n",
    "print(gamma[-1,1])\n",
    "print(gamma_check[-1,1])\n",
    "assert( abs(gamma[-1,1] - gamma_check[-1,1]) < 1e-10  ) "
   ]
  },
  {
   "cell_type": "markdown",
   "metadata": {
    "id": "anPGJt95t-5d"
   },
   "source": [
    "Make sure the assertion passes. \n",
    "\n",
    "## Binomial HMM\n",
    "\n",
    "Now we're ready to make a version of forward-backwards for our binomial vectors. We want \n",
    "$$ O_{kt} = P(Y_t | X_t = k) = \\prod_{n=1}^N P(Y_{tn} | X_t = k) $$ \n",
    "\n",
    "The binomial likelihood for an individual cell is \n",
    "$$ P(Y_{tn} | X_t = k) = Bin( M_{tn} | M_{tn} + U_{tn}, E_{k n} ) = E_{k n}^{M_{tn}} (1-E_{k n})^{U_{tn}} $$\n",
    "where $M_{tn}$ and $U_{tn}$ are the methylated and unmethylated counts respectively and $E_{ij} = P(Y_{tj} = 1 | X_t = i )$ is a matrix of binomial probabilities. When multiplying probabilities together it's generally a good idea to work in log probability space, where multiplication corresponds to addition. \n",
    "\n",
    "NOTE: a convenient aspect of the binomial likelihood is that $M_{tn} + U_{tn} = 0$ corresponds to entry $tn$ being missing, so we don't have to do anything special to handle \"missingness\". \n",
    "\n",
    "### Task [1 point]\n",
    "\n",
    "Write $\\log O_{kt}$ in terms of $E$, $M$ and $U$: \n",
    "$$\\log O_{kt} = ? $$\n",
    "\n",
    "### Task [1 point]\n",
    "\n",
    "Express this in matrix notation, where assuming the log function is applied elementwise: \n",
    "$$\\log O = ? $$\n",
    "\n",
    "### Task [1 point]\n",
    "\n",
    "Implement your calculation in this function. You should use the `np.log1p` in place of `np.log(1+.)` function where appropriate for better numerical stability! "
   ]
  },
  {
   "cell_type": "code",
   "execution_count": null,
   "metadata": {
    "id": "xwD5G_Y9uP0O"
   },
   "outputs": [],
   "source": [
    "def forwards_backwards_binomial( meth_mat, unmeth_mat, gamma0, T, E ):\n",
    "    # TODO: calculate logO\n",
    "    logO -= logO.max(0,keepdims=True) # not strictly necessary but more numerically stable\n",
    "    O = np.exp(logO)\n",
    "    \n",
    "    gamma, f, b = forwards_backwards_generic(gamma0, T, O)\n",
    "    return gamma, f, b, O"
   ]
  },
  {
   "cell_type": "markdown",
   "metadata": {
    "id": "7IPq6sSk9Xkk"
   },
   "source": [
    "It is often useful for methods with local optima (like EM fitting of an HMM) to use some fast and/or analytic method to get a reasonable initialization. As well as hopefully finding a better optimum than random initialization, this makes the analysis reproducible without setting random seeds. \n",
    "\n",
    "One way to that here is using the PCA we've already done. The vh matrix is a PCs x L (cells) weight matrix analogous to the E matrix in our binomial model. We'll take the top K PCs of vh and rescale to get valid probabilities: "
   ]
  },
  {
   "cell_type": "code",
   "execution_count": null,
   "metadata": {
    "id": "ewlqFnct9XAd"
   },
   "outputs": [],
   "source": [
    "K = 10\n",
    "\n",
    "E_init = vh[:K,:]\n",
    "E_init -= E_init.min(1, keepdims=True)\n",
    "E_init /= E_init.max(1, keepdims=True)\n",
    "E_init = 0.8 * E_init + 0.1"
   ]
  },
  {
   "cell_type": "markdown",
   "metadata": {
    "id": "-FzTL3M3EN6C"
   },
   "source": [
    "For the transition matrix T we expect that the most likely transition is to stay in the same state (since we know neighboring CpGs have correlated methylation) so we'll just set T to have more weight on the diagonal: "
   ]
  },
  {
   "cell_type": "code",
   "execution_count": null,
   "metadata": {
    "id": "7V5WqHvxENTo"
   },
   "outputs": [],
   "source": [
    "T_init = row_norm(np.identity(K) + 1/K)"
   ]
  },
  {
   "cell_type": "markdown",
   "metadata": {
    "id": "rfE3ONAnEhFP"
   },
   "source": [
    "Now we can test our new forward-backwards algorithm on some of the \"real\" data. To keep things fast we'll just try this out on the first 30000 CpGs. "
   ]
  },
  {
   "cell_type": "code",
   "execution_count": null,
   "metadata": {
    "id": "RuYmvhA9yQJW"
   },
   "outputs": [],
   "source": [
    "S = 30000 # np.sum(chroms=='1') # just run on chromosome 1\n",
    "\n",
    "gamma0 = np.full(K,1/K)\n",
    "gamma, f, b, O = forwards_backwards_binomial( meth_mat[:S,:], unmeth_mat[:S,:], gamma0, T_init, E_init )\n",
    "\n",
    "assert( abs(gamma[-1,4] - 1.0168727093165696e-06) < 1e-10  ) "
   ]
  },
  {
   "cell_type": "markdown",
   "metadata": {
    "id": "kETBTLf_EqCQ"
   },
   "source": [
    "Make sure this assertion passes! \n",
    "\n",
    "## Baum-Welch for the binomial HMM\n",
    "\n",
    "Now let's implement Baum-Welch so we can find good parameters E and T for the binomial HMM applied to the methylation data. \n",
    "\n",
    "### Task [2 points]\n",
    "\n",
    "Derive the M-update for the emission matrix E. Students have struggled with this question in the past so I'm putting a lot more exposition here. \n",
    "\n",
    "In the M step we try to optimize the expected log likelihood wrt whatever parameter (in this case E). So first you should figure out what the log likelihood is. The likelihood for an individual position and cell if we know $X_t=k$ is \n",
    "$$P(Y_{tn} | X_t = k) = Bin( M_{tn} | M_{tn} + U_{tn}, E_{k n} ) = E_{k n}^{M_{tn}} (1-E_{k n})^{U_{tn}} $$\n",
    "However, we don't know what state $X_t$ will be in so we can use the trick we used for the regular discrete likelihood HMM in class: \n",
    "$$ P(Y_{tn} | X_t) = \\prod_k P(Y_{tn} | X_t = k)^{1[X_t = k]}$$\n",
    "where $1[.]$ is the indicator function and importantly $ \\mathbb{E}_Q( 1[X_t = k]) = \\gamma_{kt}$ where $\\gamma$ comes from forward backwards. \n",
    "\n",
    "The complete likelihood is just \n",
    "$$ P(Y | X ) = \\prod_{tn} P(Y_{tn} | X_t) $$\n",
    "\n",
    "So you need to \n",
    "- Take the log of $P(Y | X )$.\n",
    "- substitute in the expression for $P(Y_{tn} | X_t)$\n",
    "- substitute in the expression for $P(Y_{tn} | X_t = k)$\n",
    "- take the expectation wrt $Q$ from forwards backwards (so you'll have $\\gamma$ terms) \n",
    "- maximize the resulting expression wrt to $ E_{kl} $. There are two ways to do this: 1) differentiate wrt to $ E_{kl} $, set that expression =0 and solve OR 2) look up the binomial likelihood (e.g. on wikipedia) and match to the function form you have, then you can get the optimal E just from looking up what the maximum likelihood estimator for the binomial is. \n",
    "\n",
    "Finally you need to add the Beta(2,2) prior: you'll notice that the log pdf $ (2-1) \\log E + (2-1) \\log (1-E) $ has the same functional form as your final expression (this is due to beta being the [conjugate prior](https://en.wikipedia.org/wiki/Conjugate_prior) for the binomial) so it's easy to incorporate.\n",
    "\n",
    "You should be able to do this using matrix multiplication rather than a loop. Include a pseudocount of 1 (corresponding to a Beta(2,2) prior on elements of E). \n",
    "\n",
    "YOUR DERIVATION HERE\n",
    "\n",
    "### Task [2 points] \n",
    "\n",
    "Implement the M-update you just derived for the emission matrix in the code below: "
   ]
  },
  {
   "cell_type": "code",
   "execution_count": null,
   "metadata": {
    "id": "CbeWfzkqQg7-"
   },
   "outputs": [],
   "source": [
    "def baum_welch_binomial(meth_mat, unmeth_mat, gamma0, E_init = None, T_init = None, tol=1e-4, maxIt = 100):\n",
    "    '''\n",
    "    Compute maximum likehood estimate using Expectation-Maximization\n",
    "\n",
    "    Parameters\n",
    "    ----------\n",
    "    meth_mat\n",
    "        S x L matrix of methylated counts\n",
    "    unmeth_mat\n",
    "        S x L matrix of unmethylated counts\n",
    "    gamma0\n",
    "        initial distribution of the hidden chain\n",
    "    E_init\n",
    "        Optional initialization of emission matrix E. \n",
    "    T_init\n",
    "        Optional initialization of transition matrix T. \n",
    "    tol\n",
    "        tolerance for the stopping criterion\n",
    "    maxIt\n",
    "        maximal number of iterations\n",
    "\n",
    "    Returns\n",
    "    -------\n",
    "    T\n",
    "        K x K estimate of the transition matrix T[i,j] = P(X[t]=j | X[t-1]=i)\n",
    "    E\n",
    "        K x L estimate of the emission matrix E[i,j], the binomial probability of methylation in cell j, given X[t]=i. \n",
    "  '''  \n",
    "    K = gamma0.size\n",
    "    L = meth_mat.shape[1]\n",
    "    S = meth_mat.shape[0]\n",
    "    \n",
    "    # randomly initialize T, E\n",
    "    T = row_norm( np.random.rand(K, K).astype(np.float32) ) if (T_init is None) else T_init\n",
    "    E = 0.1 + 0.8 * np.random.rand(K,L) if (E_init is None) else E_init # don't put values too close to 0 or 1\n",
    "\n",
    "    it = 0\n",
    "\n",
    "    param_change = np.inf\n",
    "    \n",
    "    while (param_change > tol) and (it<maxIt):\n",
    "        it += 1\n",
    "        print(\"Iteration: %i Param change: %.3g\" % (it, param_change))\n",
    "        oldT = T.copy()\n",
    "        oldE = E.copy()\n",
    "\n",
    "        # E-step\n",
    "        gamma, f, b, O = forwards_backwards_binomial(meth_mat, unmeth_mat, gamma0, T, E )\n",
    "        assert(not np.any(np.isnan(gamma)))\n",
    "\n",
    "        # M-step \n",
    "        Tstar = np.zeros((K,K))\n",
    "        for t in range(S-1):\n",
    "            Tstar += norm( T * np.outer( f[t,:], O[:,t+1] * b[t+1,:] ) )\n",
    "        T = row_norm(Tstar)\n",
    "\n",
    "        # TODO: M-step update for E\n",
    "\n",
    "        assert(not np.any(np.isnan(E)))\n",
    "        \n",
    "        #param_change = np.abs(oldT-T).sum() + np.abs(oldE-E).sum()\n",
    "        param_change = max( np.abs(oldT-T).max() , np.abs(oldE-E).max() )\n",
    "\n",
    "    return (T, E, gamma)"
   ]
  },
  {
   "cell_type": "markdown",
   "metadata": {
    "id": "Ng8aHNFgG7pO"
   },
   "source": [
    "Alright, let's run it! We'll train on the first 30000 positions. \n",
    "\n",
    "Because this is \"real\" data we can't check whether our estimates of T and E against against ground truth. One approach to assessing our model and parameters is prediction of held out data, just like we would for a supervised model. In this case we'll \"hold out\" the counts for entries with coverage > 1  (about 13% of entries) and if we can impute them. "
   ]
  },
  {
   "cell_type": "code",
   "execution_count": null,
   "metadata": {
    "id": "3RypCsWsdqk1"
   },
   "outputs": [],
   "source": [
    "test_meth = meth_mat[:S, :]\n",
    "test_unmeth = unmeth_mat[:S, :]\n",
    "test_total = test_meth + test_unmeth\n",
    "to_mask = test_total >= 2 # often you would use a random set of entries\n",
    "print(to_mask.mean()) # how many entries are we testing on? \n",
    "test_meth_masked = test_meth.copy() \n",
    "test_meth_masked[to_mask] = 0\n",
    "test_unmeth_masked = test_unmeth.copy() \n",
    "test_unmeth_masked[to_mask] = 0\n",
    "\n",
    "T,E,gamma = baum_welch_binomial( test_meth_masked, test_unmeth_masked, gamma0, E_init = E_init, T_init = T_init, tol = 0.01 )"
   ]
  },
  {
   "cell_type": "markdown",
   "metadata": {
    "id": "MX_7jYQd9Ut3"
   },
   "source": [
    "You'll notice that the parameters initially change quite a bit then convergence slows down. This is expected behavior for coordinate descent(/ascent), the class of methods that includes EM. For a graphical explanation\n",
    "![coordinateascent](https://upload.wikimedia.org/wikipedia/commons/e/e3/Coordinate_descent.svg)\n",
    "\n",
    "And bear in mind the issue is worse in higher dimensions. To cope with this we've set the tolerance pretty loose: in practice additional iterations beyond this often won't gain us anything in terms of predictive accuracy, and might even be detrimental if they result in overfitting (cf. early stopping). \n",
    "\n",
    "\n",
    "Let's take a look at the learnt transition matrix T: \n"
   ]
  },
  {
   "cell_type": "code",
   "execution_count": null,
   "metadata": {
    "id": "lfNP0vWNdqk3"
   },
   "outputs": [],
   "source": [
    "plt.imshow(T,vmin=0, vmax=1)\n",
    "plt.colorbar()\n",
    "plt.ylabel(\"Hidden state\")\n",
    "plt.xlabel(\"x[t+1]\")\n",
    "_ = plt.ylabel(\"x[t]\")"
   ]
  },
  {
   "cell_type": "markdown",
   "metadata": {
    "id": "Y5pIK_ETdqk5"
   },
   "source": [
    "Mostly here the HMM stays in the same state, but various other transitions  have substantial mass too. \n",
    "\n",
    "We can also look at the emission matrix, which shows clear patterns of states that correspond to methylation shared across cells of a specific type. "
   ]
  },
  {
   "cell_type": "code",
   "execution_count": null,
   "metadata": {
    "id": "cR3b-YLAdqk5"
   },
   "outputs": [],
   "source": [
    "plt.figure(figsize=(18,8))\n",
    "plt.imshow(E, vmin=0, vmax=1)\n",
    "_ = plt.xticks(np.arange(len(cell_names)), cell_names, rotation=\"vertical\")\n",
    "plt.colorbar()\n",
    "plt.xlabel(\"Cell name\")\n",
    "_ = plt.ylabel(\"Hidden state\")"
   ]
  },
  {
   "cell_type": "markdown",
   "metadata": {
    "id": "Zur2BbjDLL4b"
   },
   "source": [
    "Now we want to calculate $ P(Y_\\text{missing} | Y_\\text{observed}, E, T) $. We will do this by summing over the posterior gamma_test. \n",
    "\n",
    "### Task [1 point] \n",
    "\n",
    "Derive $ Z_{tj} = P(Y^\\text{missing}_{t} =j | Y_\\text{observed}, E, T) $ in terms of $E_{ij} = P(Y_{tj} = 1 | X_t = i )$ and $ \\gamma_{ti} = P( X_t = i | Y_\\text{observed} )$ by using basic probability rules. You can do this with a single matrix multiply! \n",
    "\n",
    "$$ Z_{tj} = ? $$\n",
    "$$ Z = ? $$\n",
    "\n",
    "### Task [1 point]\n",
    "\n",
    "Implement your expression:"
   ]
  },
  {
   "cell_type": "code",
   "execution_count": null,
   "metadata": {
    "id": "HfIagD_4dqlA"
   },
   "outputs": [],
   "source": [
    "# TODO: calculate Z as the expected Y given the posterior over X. Should be S x L\n",
    "Z = ?\n",
    "Y_obs = test_meth / test_total\n",
    "correct_pred = (Y_obs[to_mask]>.5) == (Z[to_mask]>.5)\n",
    "correct_pred.mean()"
   ]
  },
  {
   "cell_type": "markdown",
   "metadata": {
    "id": "9zisaQBZNcue"
   },
   "source": [
    "\n",
    "\n",
    "This should be 0.88, pretty good considering how sparse the data is. \n",
    "\n",
    "Let's visualize some of our predictions: "
   ]
  },
  {
   "cell_type": "code",
   "execution_count": null,
   "metadata": {
    "id": "cF6qrAovE9WE"
   },
   "outputs": [],
   "source": [
    "(cpg_start,cpg_end) = (10232143, 10233428)\n",
    "\n",
    "window = 20000\n",
    "\n",
    "in_cpg = np.logical_and( chroms == \"1\" , np.logical_and( cpg_start - window < positions , positions < cpg_end + window ))\n",
    "\n",
    "meth_mat[in_cpg,:]\n",
    "unmeth_mat[in_cpg,:]\n",
    "\n",
    "y = meth_mat[in_cpg,:] / ( unmeth_mat[in_cpg,:] + meth_mat[in_cpg,:] )\n",
    "\n",
    "plt.figure(figsize=(16,8))\n",
    "_ = plt.plot( positions[in_cpg], y[:,:12], \"o\")\n",
    "_ = plt.plot( positions[in_cpg], Z[in_cpg[:S],:12], \"-\")"
   ]
  },
  {
   "cell_type": "markdown",
   "metadata": {
    "id": "vYg57BqjFDA3"
   },
   "source": [
    "The region with very low methylation is a CpG island. Think through how these lines are created: each position has a distribution over the possible states, and each state corresponds to a vector of binomial probabilities across the cells. "
   ]
  },
  {
   "cell_type": "markdown",
   "metadata": {
    "id": "5T7RXYsbNIC9"
   },
   "source": [
    "\n",
    "\n",
    "### Task [3 points]\n",
    "\n",
    "Vary the number of hidden states from 1 to 10 and see how this impacts imputation accuracy and run time. "
   ]
  },
  {
   "cell_type": "code",
   "execution_count": null,
   "metadata": {
    "id": "zPRaDXqtNZUz"
   },
   "outputs": [],
   "source": [
    "# implementation here"
   ]
  },
  {
   "cell_type": "markdown",
   "metadata": {
    "id": "V_N8DSN4dqlE"
   },
   "source": [
    "# RNNs\n",
    "\n",
    "In deep learning RNNs are often used to handle sequential data. \n",
    "\n",
    "## Vanilla RNN\n",
    "\n",
    "First we'll build a single vanilla \"cell\", an individual computation unit for the RNN. "
   ]
  },
  {
   "cell_type": "code",
   "execution_count": null,
   "metadata": {
    "id": "sRlQ2odpdqlF"
   },
   "outputs": [],
   "source": [
    "import torch.nn as nn\n",
    "import torch \n",
    "import torch.nn.functional as F\n",
    "\n",
    "class MyVanillaRNNCell(nn.Module):\n",
    "    \n",
    "    def __init__(self, input_size, hidden_size):\n",
    "        super(MyVanillaRNNCell, self).__init__()\n",
    "        self.input_size = input_size\n",
    "        self.hidden_size = hidden_size\n",
    "        self.linear = nn.Linear(input_size + hidden_size, hidden_size)\n",
    "        \n",
    "    def forward(self, x, h_in):\n",
    "        \"\"\"\n",
    "        Forward computation. \n",
    "        \n",
    "        Parameters\n",
    "        ----------\n",
    "        x : torch.tensor\n",
    "            [batch_size x input_size] input\n",
    "        h_in : torch.tensor\n",
    "            [batch_size x hidden_size] hidden state from previous time point\n",
    "            \n",
    "        Returns\n",
    "        -------\n",
    "        h_out : torch.tensor\n",
    "            [batch_size x hidden_size] new hidden state \n",
    "        \"\"\"\n",
    "        combined = torch.cat((x, h_in), 1) # concatenate in feature dimension\n",
    "        h_out = torch.tanh( self.linear(combined) )\n",
    "        return h_out\n",
    "\n"
   ]
  },
  {
   "cell_type": "markdown",
   "metadata": {
    "id": "7rF8bVMxdqlH"
   },
   "source": [
    "All this does is take the current input (x) and hidden state (h_in) and computes h_out according to $h_{out} = \\tanh( W [x, h_in] + b )$. Although we don't see them explicitly in the code, the parameters $W$ and $b$ are stored in the `linear` layer. \n",
    "\n",
    "Now we can build an RNN layer as "
   ]
  },
  {
   "cell_type": "code",
   "execution_count": null,
   "metadata": {
    "id": "hN2yFa2SdqlH"
   },
   "outputs": [],
   "source": [
    "class MyRNNLayer(nn.Module):\n",
    "    \n",
    "    def __init__(self, rnn_cell):\n",
    "        super(MyRNNLayer, self).__init__()\n",
    "        self.rnn_cell = rnn_cell\n",
    "\n",
    "    @property\n",
    "    def hidden_size(self):\n",
    "        return self.rnn_cell.hidden_size\n",
    "\n",
    "    @property\n",
    "    def input_size(self):\n",
    "        return self.rnn_cell.input_size\n",
    "        \n",
    "    def forward(self, x): \n",
    "        (seq_len, batch_size, input_size) = x.shape\n",
    "        hidden = torch.zeros(batch_size, self.hidden_size, device = x.device) # could be an input to the function\n",
    "        output = torch.zeros(seq_len, batch_size, self.hidden_size, device = x.device)\n",
    "        for i in range(seq_len): # iterate over sequence\n",
    "            hidden = self.rnn_cell(x[i,:,:], hidden)\n",
    "            output[i,:,:] = hidden\n",
    "        return output"
   ]
  },
  {
   "cell_type": "markdown",
   "metadata": {
    "id": "VzGa01SddqlJ"
   },
   "source": [
    "Let's try running our RNN with random input: "
   ]
  },
  {
   "cell_type": "code",
   "execution_count": null,
   "metadata": {
    "id": "XJiSAOFodqlJ"
   },
   "outputs": [],
   "source": [
    "input_size = 4\n",
    "hidden_size = 2\n",
    "rnn_cell = MyVanillaRNNCell(input_size, hidden_size)\n",
    "rnn = MyRNNLayer(rnn_cell)\n",
    "\n",
    "x = torch.randn(100, 1, input_size) # random input length 100, batch_size = 1\n",
    "hidden_state = rnn(x)\n",
    "\n",
    "_ = plt.plot(hidden_state.detach().numpy().squeeze())"
   ]
  },
  {
   "cell_type": "markdown",
   "metadata": {
    "id": "Sp7LN4CidqlK"
   },
   "source": [
    "We expect the vanilla RNN won't be too useful because of vanishing gradients. \n",
    "\n",
    "### Task [2 points]\n",
    "\n",
    "Implement a slightly less vanilla RNN cell (still simpler than GRU or LSTM) where\n",
    "$$ f_t = \\sigma( W_f [ x_t , h_{t-1} ]^T + \\mu_f ) $$\n",
    "$$ g_t = \\tanh( W_g [ x_t , h_{t-1} ]^T + \\mu_g ) $$\n",
    "$$ h_t = f_t \\cdot h_{t-1} + (1 - f_t) \\cdot g_t $$"
   ]
  },
  {
   "cell_type": "code",
   "execution_count": null,
   "metadata": {
    "id": "9AscxWkrdqlM"
   },
   "outputs": [],
   "source": [
    "class MyLessVanillaRNNCell(nn.Module):\n",
    "    # TODO\n",
    "\n",
    "rnn_cell = MyLessVanillaRNNCell(input_size, hidden_size)\n",
    "rnn = MyRNNLayer(rnn_cell)\n",
    "output = rnn(x)\n",
    "_ = plt.plot(output.detach().numpy().squeeze())"
   ]
  },
  {
   "cell_type": "markdown",
   "metadata": {
    "id": "9X0NsJ4QdqlN"
   },
   "source": [
    "Run the above block a few times. Even with randomly initialized parameters you can often see there is somewhat longer term memory/behavior than you get with the vanilla RNN. \n",
    "\n",
    "To make full regular RNN model we would also want to also calculate outputs as a function of the hidden states:"
   ]
  },
  {
   "cell_type": "code",
   "execution_count": null,
   "metadata": {
    "id": "CeZqdvYXJAqE"
   },
   "outputs": [],
   "source": [
    "class BasicRNN(nn.Module):\n",
    "    \n",
    "    def __init__(self, rnn_layer, output_size):\n",
    "        super(BasicRNN, self).__init__()\n",
    "        self.rnn_layer = rnn_layer\n",
    "        self.linear = nn.Linear(rnn_layer.hidden_size, output_size)\n",
    "\n",
    "    def forward(self, x):\n",
    "        h = self.rnn_layer(x)\n",
    "        output = self.linear(h)\n",
    "        return output\n",
    "\n",
    "output_size = 3\n",
    "rnn_cell = MyLessVanillaRNNCell(input_size, hidden_size)\n",
    "rnn_layer = MyRNNLayer(rnn_cell)\n",
    "model = BasicRNN(rnn_layer, output_size)\n",
    "model(x).shape"
   ]
  },
  {
   "cell_type": "markdown",
   "metadata": {
    "id": "lR_dzsjjJFQe"
   },
   "source": [
    "For our methylation data we'll initially consider each cell independently. The RNN input will be the methylated and unmethylated counts (two input features - channels if this were a CNN). Since we're considering cells as independent we can concentate the cells and batch dimensions using the pytorch `view` operator (analogous to `np.reshape`), apply the RNN layer, and then separate out the cells again using `view`. "
   ]
  },
  {
   "cell_type": "code",
   "execution_count": null,
   "metadata": {
    "id": "H9pfBYyJdqlT"
   },
   "outputs": [],
   "source": [
    "class MethModel(nn.Module):\n",
    "    def __init__(self, rnn_layer, input_size = 2, output_size = 1):\n",
    "        super(MethModel, self).__init__()\n",
    "        self.hidden_size = rnn_layer.hidden_size\n",
    "        self.embed = nn.Linear(input_size, rnn_layer.input_size) # the embed layer runs independently on each pair of meth/unmeth counts\n",
    "        self.rnn_layer = rnn_layer\n",
    "        self.linear = nn.Linear(self.hidden_size, output_size)\n",
    "\n",
    "    def forward(self, meth, unmeth): # meth is seq x batch x cells\n",
    "        batch_size = meth.shape[1]\n",
    "        num_cells = meth.shape[2]\n",
    "        meth = meth.view(meth.shape[0], batch_size * num_cells)\n",
    "        unmeth = unmeth.view(unmeth.shape[0], batch_size * num_cells)\n",
    "        x = torch.stack((meth,unmeth),2) # seq x (cells x batch) x channels(=meth and unmeth counts)\n",
    "        x = self.embed(x) # seq x cells(=batch) x channels\n",
    "        x = F.relu(x)\n",
    "        h = self.rnn_layer(x) \n",
    "        if isinstance(rnn_layer, nn.RNNBase): h = h[0] # torch RNN layers give h[0:t] and h[-1]\n",
    "        output = self.linear(h)\n",
    "        output = output.view(output.shape[0], batch_size, num_cells, output.shape[-1])\n",
    "        output = output[:,:,:,0]\n",
    "        return output"
   ]
  },
  {
   "cell_type": "markdown",
   "metadata": {
    "id": "qIyh3_05FtES"
   },
   "source": [
    "We'll be using the single cell methylation data again: "
   ]
  },
  {
   "cell_type": "code",
   "execution_count": null,
   "metadata": {
    "id": "e60XryUQko-H"
   },
   "outputs": [],
   "source": [
    "class CpgDataset(torch.utils.data.Dataset):\n",
    "\n",
    "    def __init__(self, meth_counts, unmeth_counts, seq_len = 1000):\n",
    "        super(CpgDataset, self).__init__()\n",
    "        self.meth_counts = meth_counts\n",
    "        self.unmeth_counts = unmeth_counts\n",
    "        self.seq_len = seq_len\n",
    "\n",
    "    def __getitem__(self, i): \n",
    "        return(self.meth_counts[i*self.seq_len:(i+1)*self.seq_len].astype(np.float32), \n",
    "               self.unmeth_counts[i*self.seq_len:(i+1)*self.seq_len].astype(np.float32))\n",
    "            \n",
    "    def __len__(self):\n",
    "        return self.meth_counts.shape[0] // self.seq_len"
   ]
  },
  {
   "cell_type": "markdown",
   "metadata": {
    "id": "oEaisR8lFya8"
   },
   "source": [
    "Our training loop should look very familiar from Assignment 1! \n",
    "\n",
    "\n",
    "\n",
    "We want to do one step ahead prediction, i.e. \n",
    "$ L = - \\sum_{j=1}^J \\sum_{t=1}^{T-1} \\log Bin( M_{t+1,j} | M_{t+1,j} + U_{t+1,j}, p_{tj} ) $ where $p_{tj}$ is the output of the RNN at position $t$ and cell $j$. In practice it's usually better to take the mean rather than the sum over $J$ and $t$. \n",
    "\n",
    "### Task [1 point] \n",
    "\n",
    "Write out the loss explicitly with log function(s):  \n",
    "$$ L = ? $$\n",
    "\n",
    "### Task [1 point] \n",
    "\n",
    "Implement the binomial loss below"
   ]
  },
  {
   "cell_type": "code",
   "execution_count": null,
   "metadata": {
    "id": "AIAfpbJpsDGF"
   },
   "outputs": [],
   "source": [
    "import timeit\n",
    "\n",
    "def run_one_epoch(train_flag, dataloader, model, optimizer, device=\"cuda\"):\n",
    "\n",
    "    torch.set_grad_enabled(train_flag)\n",
    "    model.train() if train_flag else model.eval()\n",
    "\n",
    "    losses = []\n",
    "    accuracies = []\n",
    "\n",
    "    for meth,unmeth in dataloader:\n",
    "        \n",
    "        # DataLoader's automatic batching makes batch x seq x cells tensors, \n",
    "        # For RNNs we want seq x batch x cells\n",
    "        meth = meth.transpose(0,1).contiguous() \n",
    "        unmeth = unmeth.transpose(0,1).contiguous()\n",
    "\n",
    "        (meth, unmeth) = ( meth.to(device), unmeth.to(device) ) # transfer data to GPU\n",
    "\n",
    "        # forward\n",
    "        logodds = model(meth, unmeth) # the output is seq x batch x cells\n",
    "\n",
    "        lo = logodds[:-1,:,:] # shift by one since we're doing one-step (i.e. one CpG) ahead prediction\n",
    "        prob_methylated = torch.sigmoid(lo)\n",
    "\n",
    "        # TODO: calculate binomial loss\n",
    "        \n",
    "        losses.append(loss.detach().cpu().numpy())\n",
    "\n",
    "        if train_flag: \n",
    "            loss.backward() # back propagation\n",
    "            optimizer.step()\n",
    "            optimizer.zero_grad()\n",
    "\n",
    "        # calculate accuracy\n",
    "        meth_sum = meth[1:,:,:] + unmeth[1:,:,:]\n",
    "        meth_rate = meth[1:,:,:] / meth_sum\n",
    "        correct = ((meth_rate > .5) == (prob_methylated > .5))[meth_sum > 0]\n",
    "        accuracy = torch.mean( correct.float() )\n",
    "\n",
    "        accuracies.append(accuracy.detach().cpu().numpy())  \n",
    "\n",
    "    return( np.mean(losses), np.mean(accuracies) )\n",
    "\n",
    "def train_loop(model,\n",
    "               optimizer,\n",
    "               train_dataloader, \n",
    "               validation_dataloader,\n",
    "               check_point_filename = '/content/drive/My Drive/scBSseq/rnn_checkpoint.pt',\n",
    "               max_epochs = 100, \n",
    "               patience = 10,\n",
    "               device = \"cuda\"):\n",
    "\n",
    "    train_accs = []\n",
    "    val_accs = []\n",
    "    patience_counter = patience\n",
    "    best_val_loss = np.inf\n",
    "\n",
    "    for epoch in range(max_epochs):\n",
    "        start_time = timeit.default_timer()\n",
    "        train_loss, train_acc = run_one_epoch(True, train_dataloader, model, optimizer, device)\n",
    "        val_loss, val_acc = run_one_epoch(False, validation_dataloader, model, optimizer, device)\n",
    "        train_accs.append(train_acc)\n",
    "        val_accs.append(val_acc)\n",
    "\n",
    "        elapsed = float(timeit.default_timer() - start_time)\n",
    "        print(\"Epoch %i took %.2fs. Train loss: %.4f acc: %.4f. Val loss: %.4f acc: %.4f. Patience left: %i\" % \n",
    "            (epoch+1, elapsed, train_loss, train_acc, val_loss, val_acc, patience_counter ))\n",
    "        \n",
    "        if val_loss < best_val_loss: \n",
    "            torch.save(model.state_dict(), check_point_filename)\n",
    "            best_val_loss = val_loss\n",
    "            patience_counter = patience\n",
    "        else: \n",
    "            patience_counter -= 1\n",
    "            if patience_counter <= 0: \n",
    "                model.load_state_dict(torch.load(check_point_filename)) # recover the best model so far\n",
    "                break\n",
    "    \n",
    "    return(train_accs, val_accs)"
   ]
  },
  {
   "cell_type": "markdown",
   "metadata": {
    "id": "ddsEq5TeftqD"
   },
   "source": [
    "Let's train! "
   ]
  },
  {
   "cell_type": "code",
   "execution_count": null,
   "metadata": {
    "id": "W0zTtQ8ldqlW"
   },
   "outputs": [],
   "source": [
    "batch_size = 100\n",
    "seq_len = 1000\n",
    "\n",
    "training_cpg = chroms == \"18\"\n",
    "train_dataset = CpgDataset(meth_mat[training_cpg,:], unmeth_mat[training_cpg,:], seq_len = seq_len)\n",
    "train_dataloader = torch.utils.data.DataLoader(train_dataset, \n",
    "                                               batch_size = batch_size, \n",
    "                                               num_workers = 0 ) # actually slower with more workers\n",
    "\n",
    "val_cpg = chroms == \"19\"\n",
    "val_dataset = CpgDataset(meth_mat[val_cpg,:], unmeth_mat[val_cpg,:], seq_len = seq_len)\n",
    "validation_dataloader = torch.utils.data.DataLoader(val_dataset, \n",
    "                                               batch_size = batch_size, \n",
    "                                               num_workers = 0)\n",
    "\n",
    "hidden_size = 32\n",
    "\n",
    "rnn_cell = MyLessVanillaRNNCell(input_size = hidden_size, hidden_size = hidden_size) \n",
    "rnn_layer = MyRNNLayer(rnn_cell)\n",
    "\n",
    "model = MethModel(rnn_layer)\n",
    "\n",
    "device = \"cuda\"\n",
    "model.to(device)\n",
    "\n",
    "optimizer = torch.optim.Adam(model.parameters(), amsgrad=True)\n",
    "\n",
    "train_accs, val_accs = train_loop(model,\n",
    "                                optimizer,\n",
    "                                train_dataloader, \n",
    "                                validation_dataloader,\n",
    "                                check_point_filename = 'rnn_checkpoint.pt',\n",
    "                                device = device,\n",
    "                                max_epochs = 30)\n",
    "\n",
    "test_cpg = chroms == \"17\"\n",
    "test_dataset = CpgDataset(meth_mat[test_cpg,:], unmeth_mat[test_cpg,:], seq_len = seq_len)\n",
    "test_dataloader = torch.utils.data.DataLoader(test_dataset, \n",
    "                                               batch_size = batch_size, \n",
    "                                               num_workers = 0)\n",
    "\n",
    "test_loss, test_acc = run_one_epoch(False, test_dataloader, model, optimizer, device)\n",
    "print(test_acc)"
   ]
  },
  {
   "cell_type": "markdown",
   "metadata": {
    "id": "1zwTbWOp9R2F"
   },
   "source": [
    "Note that for the RNN trained with Adam it seems early stopping would take a long time to kick in! So for these experiments we'll just use max 30 epochs. "
   ]
  },
  {
   "cell_type": "code",
   "execution_count": null,
   "metadata": {
    "id": "Q84zOAN5agIU"
   },
   "outputs": [],
   "source": [
    "plt.plot(train_accs,  \"--\", label=\"train\")\n",
    "plt.plot(val_accs, label=\"validation\")\n",
    "plt.axhline(test_acc)\n",
    "plt.legend()\n",
    "plt.xlabel(\"epoch\")\n",
    "plt.ylabel(\"accuracy\")"
   ]
  },
  {
   "cell_type": "markdown",
   "metadata": {
    "id": "pJMyrdfm5kgM"
   },
   "source": [
    "## Task [5 points] \n",
    "\n",
    "Compare the LessVanillaRNN, VanillaRNN, GRU and LSTM. For the latter 3 you can use the torch built in layers nn.RNN, nn.GRU and nn.LSTM since they run an order of magnitude faster (they have pure CUDA implementations). Note these built in modules implement the whole RNN layer, not just an individual cell. Stick to a max of 30 epochs. Run 3 random restarts (recreate the model instance so the parameters are randomly initialized) for each RNN to get a sense of how consistent the performance is. Plot the final train, validation and test accuracy. Discuss your results. "
   ]
  },
  {
   "cell_type": "code",
   "execution_count": null,
   "metadata": {
    "id": "iCGA3HMcBYBp"
   },
   "outputs": [],
   "source": [
    "## your experiments here"
   ]
  },
  {
   "cell_type": "markdown",
   "metadata": {
    "id": "faJFzuOM5a-_"
   },
   "source": [
    "## Sharing information across cells\n",
    "\n",
    "Next we'll try to learn an RNN that shares information across cells like the HMM did and more like DeepCpG. Now our input is the methylated and unmethylated counts for all the cells. We first embed each cell's counts as before, and but then run the RNN on the concatenation of all the cells' embeddings (which we get using the view function). "
   ]
  },
  {
   "cell_type": "code",
   "execution_count": null,
   "metadata": {
    "id": "7_DXS6cQy6wo"
   },
   "outputs": [],
   "source": [
    "class MethJointModel(nn.Module):\n",
    "    def __init__(self, rnn_layer, input_size, num_cells, embedding_size):\n",
    "        super(MethJointModel, self).__init__()\n",
    "        self.embed = nn.Linear(input_size, embedding_size)\n",
    "        self.rnn_layer = rnn_layer\n",
    "        self.linear = nn.Linear(rnn_layer.hidden_size, num_cells)\n",
    "\n",
    "    def forward(self, meth, unmeth):\n",
    "        x = torch.stack((meth,unmeth),3) # seq x batch x cells x channels(=meth and unmeth counts)\n",
    "        x = self.embed(x) # seq x batch x cells x hidden_size\n",
    "        x = x.view(x.shape[0], x.shape[1], x.shape[2] * x.shape[3]) # seq x batch x (cells x hidden_size)\n",
    "        x = F.relu(x)\n",
    "        h = self.rnn_layer(x) \n",
    "        if isinstance(rnn_layer, nn.RNNBase): h = h[0] # torch RNN layers give h[0:t] and h[-1]\n",
    "        output = self.linear(h)\n",
    "        return output"
   ]
  },
  {
   "cell_type": "code",
   "execution_count": null,
   "metadata": {
    "id": "7PMQ3BW-Pq47"
   },
   "outputs": [],
   "source": [
    "hidden_size = 32\n",
    "num_cells = meth_mat.shape[1]\n",
    "embedding_size = 3\n",
    "\n",
    "rnn_layer = nn.LSTM(input_size = num_cells * embedding_size, hidden_size = hidden_size)\n",
    "\n",
    "model = MethJointModel(rnn_layer, input_size = 2, num_cells = num_cells, embedding_size = embedding_size)\n",
    "\n",
    "device = \"cuda\"\n",
    "model.to(device)\n",
    "\n",
    "optimizer = torch.optim.Adam(model.parameters(), amsgrad=True)\n",
    "\n",
    "train_accs, val_accs = train_loop(model,\n",
    "                                optimizer,\n",
    "                                train_dataloader, \n",
    "                                validation_dataloader,\n",
    "                                check_point_filename = '/content/drive/My Drive/scBSseq/rnn_checkpoint.pt',\n",
    "                                device = device,\n",
    "                                max_epochs = 100) # high dimensional: takes longer to converge\n",
    "\n",
    "test_loss, test_acc = run_one_epoch(False, test_dataloader, model, optimizer, device)\n",
    "print(test_acc)"
   ]
  },
  {
   "cell_type": "code",
   "execution_count": null,
   "metadata": {
    "id": "Xerko_8Gl8F_"
   },
   "outputs": [],
   "source": [
    "import matplotlib.pyplot as plt\n",
    "plt.plot(train_accs, \"--\", label=\"train\")\n",
    "plt.plot(val_accs, label=\"validation\")\n",
    "plt.axhline(test_acc)\n",
    "plt.ylabel(\"Accuracy\")\n",
    "plt.xlabel(\"Epoch\")\n",
    "plt.legend()"
   ]
  },
  {
   "cell_type": "markdown",
   "metadata": {
    "id": "HXwJFNmM8X8l"
   },
   "source": [
    "## Task [3 points]\n",
    "\n",
    "Vary ONE aspect of the RNN (most of these options are available through the torch RNN layers):\n",
    "- number of RNN layers\n",
    "- embedding size\n",
    "- hidden size\n",
    "- learning rate\n",
    "- different optimizers (Adam, RMSprop, SGD with/without momentum)\n",
    "- LSTM vs RNN vs GRU\n",
    "- activation \n",
    "- include varying levels of dropout\n",
    "\n",
    "And compare performance. Again run 3 random restarts for each setting. \n",
    "\n",
    "Plot and discuss your findings. \n",
    "\n"
   ]
  },
  {
   "cell_type": "markdown",
   "metadata": {
    "id": "x9knouYMzWrl"
   },
   "source": [
    "\n",
    "## Task [2 points, extra credit] \n",
    "\n",
    "- Test set accuracy over 90%: 1 point\n",
    "- Test set accuracy over 95%: 1 more point"
   ]
  }
 ],
 "metadata": {
  "accelerator": "GPU",
  "colab": {
   "collapsed_sections": [],
   "machine_shape": "hm",
   "name": "ML4FG Assignment 3 sequence models.ipynb",
   "provenance": [
    {
     "file_id": "1YrFJ6hkQQd-jqmdMqPUAFV5W_UFuiXrq",
     "timestamp": 1571068515205
    }
   ]
  },
  "kernelspec": {
   "display_name": "Python 3 (ipykernel)",
   "language": "python",
   "name": "python3"
  },
  "language_info": {
   "codemirror_mode": {
    "name": "ipython",
    "version": 3
   },
   "file_extension": ".py",
   "mimetype": "text/x-python",
   "name": "python",
   "nbconvert_exporter": "python",
   "pygments_lexer": "ipython3",
   "version": "3.9.12"
  }
 },
 "nbformat": 4,
 "nbformat_minor": 1
}
